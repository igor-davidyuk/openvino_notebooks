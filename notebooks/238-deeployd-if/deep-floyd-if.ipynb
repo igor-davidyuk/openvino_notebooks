{
 "cells": [
  {
   "cell_type": "markdown",
   "id": "0fbbf681",
   "metadata": {},
   "source": [
    "# Image generation with DeepFloyd IF and OpenVINO™\n",
    "\n",
    "DeepFloyd IF is an advanced open-source text-to-image model that delivers remarkable photorealism and language comprehension. DeepFloyd IF consists of a frozen text encoder and three cascaded pixel diffusion modules: a base model that creates 64x64 px images based on text prompts and two super-resolution models, each designed to generate images with increasing resolution: 256x256 px and 1024x1024 px. All stages of the model employ a frozen text encoder, built on the T5 transformer, to derive text embeddings, which are then passed to a UNet architecture enhanced with cross-attention and attention pooling.\n",
    "\n",
    "![deepfloyd_if_scheme](https://github.com/deep-floyd/IF/raw/develop/pics/deepfloyd_if_scheme.jpg)\n"
   ]
  },
  {
   "cell_type": "markdown",
   "id": "4bca7602",
   "metadata": {},
   "source": [
    "## Prerequisites\n",
    "Install required packages."
   ]
  },
  {
   "cell_type": "code",
   "execution_count": null,
   "id": "699e9c54",
   "metadata": {
    "scrolled": true
   },
   "outputs": [],
   "source": [
    "%%bash\n",
    "# Set up requirements\n",
    "\n",
    "pip install --upgrade pip\n",
    "pip install diffusers accelerate transformers safetensors sentencepiece huggingface_hub\n",
    "pip install openvino-dev==2023.0.0.dev20230427"
   ]
  },
  {
   "cell_type": "code",
   "execution_count": null,
   "id": "7701f776",
   "metadata": {},
   "outputs": [],
   "source": [
    "import gc\n",
    "from pathlib import Path\n",
    "from typing import Union\n",
    "\n",
    "import diffusers\n",
    "from diffusers import DiffusionPipeline\n",
    "from diffusers.utils import pt_to_pil\n",
    "from openvino.runtime import Core, PartialShape, serialize\n",
    "from openvino.tools import mo\n",
    "from openvino.tools.mo.convert import InputCutInfo\n",
    "import torch"
   ]
  },
  {
   "cell_type": "code",
   "execution_count": null,
   "id": "4e1c7f4c",
   "metadata": {},
   "outputs": [],
   "source": [
    "# Set up target computing device\n",
    "DEVICE = 'CPU'  # 'GPU' is also an option\n",
    "\n",
    "if DEVICE == 'CPU':\n",
    "    checkpoint_variant = 'fp32'\n",
    "    model_dtype = torch.float32\n",
    "    ir_input_type = 'f32'\n",
    "    compress_to_fp16 = False\n",
    "elif DEVICE == 'GPU':\n",
    "    checkpoint_variant = 'fp32'\n",
    "    model_dtype = torch.float32\n",
    "    ir_input_type = 'f32'\n",
    "    compress_to_fp16 = False\n",
    "\n",
    "models_dir = Path('./models')\n",
    "models_dir.mkdir(exist_ok=True)\n",
    "\n",
    "encoder_ir_path = models_dir / 'encoder_ir.xml'\n",
    "first_stage_unet_ir_path = models_dir / 'unet_ir_I_l.xml'\n",
    "second_stage_unet_ir_path = models_dir / 'unet_ir_II_m.xml'"
   ]
  },
  {
   "cell_type": "markdown",
   "id": "678f032a",
   "metadata": {},
   "source": [
    "### Authentication\n",
    "In order to access IF checkpoints, users need to provide an authentication token.\n",
    "\n",
    "1. Make sure to have a Hugging Face account and be loggin in\n",
    "2. Accept the license on the model card of [DeepFloyd/IF-I-L-v1.0](https://huggingface.co/DeepFloyd/IF-I-L-v1.0)\n",
    "3. To generate a token, follow the link displayed in the cell output.\n",
    "\n",
    "Uncheck the `Add token as git credential?` box."
   ]
  },
  {
   "cell_type": "code",
   "execution_count": null,
   "id": "e82d3344",
   "metadata": {},
   "outputs": [],
   "source": [
    "from huggingface_hub import login\n",
    "\n",
    "login()"
   ]
  },
  {
   "cell_type": "markdown",
   "id": "58a93f32",
   "metadata": {},
   "source": [
    "## Stable Diffusion in Diffusers library\n",
    "To work with IF by DeepFloyd Lab, we will use Hugging Face Diffusers library. To experiment with diffusion models, Diffusers exposes the DiffusionPipeline. The code below demonstrates how to create a DiffusionPipeline using IF configs:"
   ]
  },
  {
   "cell_type": "code",
   "execution_count": null,
   "id": "5001b4dc",
   "metadata": {
    "scrolled": true
   },
   "outputs": [],
   "source": [
    "%%time\n",
    "\n",
    "# Downloading the model weights may take some time. The approximate total checkpoints size is 27GB.\n",
    "stage_1 = DiffusionPipeline.from_pretrained(\n",
    "    \"DeepFloyd/IF-I-L-v1.0\",\n",
    "    variant=checkpoint_variant,\n",
    ")\n",
    "\n",
    "stage_2 = DiffusionPipeline.from_pretrained(\n",
    "    \"DeepFloyd/IF-II-M-v1.0\",\n",
    "    text_encoder=None,\n",
    "    variant=checkpoint_variant,\n",
    ")"
   ]
  },
  {
   "cell_type": "markdown",
   "id": "84b8cd8f",
   "metadata": {},
   "source": [
    "## Convert models to OpenVINO Intermediate representation (IR) format\n",
    "The OpenVINO Model Optimizer enables direct conversion of PyTorch models. We will utilize the mo.convert_model method to acquire OpenVINO IR versions of the models. This requires providing a model object, input data for model tracing, and other relevant parameters. The use_legacy_frontend=True parameter instructs the Model Optimizer to employ the ONNX model format as an intermediate step, as opposed to using the PyTorch JIT compiler, which is not optimal for our situation.\n",
    "\n",
    "The pipeline consists of three important parts:\n",
    "\n",
    " - A Text Encoder that translates user prompts to vectors in the latent space that the Diffusion model can understand.\n",
    " - A Stage 1 U-Net for step-by-step denoising latent image representation.\n",
    " - A Stage 2 U-Net that takes low resolution output from the previous step and the latent representations to upscale the resulting image.\n",
    " \n",
    "Let us convert each part"
   ]
  },
  {
   "cell_type": "markdown",
   "id": "c44d2557",
   "metadata": {},
   "source": [
    "## 1. Convert Text Encoder\n",
    "\n",
    "The text encoder is responsible for converting the input prompt, such as \"ultra close-up color photo portrait of rainbow owl with deer horns in the woods\" into an embedding space that can be fed to the next stage's U-Net. Typically, it is a transformer-based encoder that maps a sequence of input tokens to a sequence of text embeddings.\n",
    "\n",
    "The input for the text encoder consists of a tensor `input_ids`, which contains token indices from the text processed by the tokenizer and padded to the maximum length accepted by the model, and `attention_mask`, which marks relevant tokens with 1s and padded tokens with 0s."
   ]
  },
  {
   "cell_type": "code",
   "execution_count": null,
   "id": "a617d3f0",
   "metadata": {
    "scrolled": true
   },
   "outputs": [],
   "source": [
    "%%time\n",
    "\n",
    "if not encoder_ir_path.exists():\n",
    "    encoder_ir = mo.convert_model(\n",
    "        stage_1.text_encoder,\n",
    "        input=[InputCutInfo(shape=PartialShape([1,77]), type='i64'),],\n",
    "        compress_to_fp16=compress_to_fp16,\n",
    "    )\n",
    "    \n",
    "    # Serialize the IR model to disk, we will load it at inference time\n",
    "    serialize(encoder_ir, encoder_ir_path)\n",
    "    del encoder_ir\n",
    "    \n",
    "del stage_1.text_encoder\n",
    "gc.collect();"
   ]
  },
  {
   "cell_type": "markdown",
   "id": "b5214461",
   "metadata": {},
   "source": [
    "## Convert the first Pixel Diffusion module's UNet\n",
    "\n",
    "U-Net model gradually denoises latent image representation guided by text encoder hidden state.\n",
    "\n",
    "U-Net model has three inputs:\n",
    "\n",
    "`sample` - latent image sample from previous step. Generation process has not been started yet, so you will use random noise.\n",
    "`timestep` - current scheduler step.\n",
    "`encoder_hidden_state` - hidden state of text encoder.\n",
    "Model predicts the sample state for the next step.\n",
    "\n",
    "The first Diffusion module in the cascade generates 64x64 pixel low resolution images."
   ]
  },
  {
   "cell_type": "code",
   "execution_count": null,
   "id": "8adf1419",
   "metadata": {},
   "outputs": [],
   "source": [
    "%%time\n",
    "\n",
    "if not first_stage_unet_ir_path.exists():\n",
    "    unet_1_ir = mo.convert_model(\n",
    "        stage_1.unet,\n",
    "        input=[InputCutInfo(shape=PartialShape([2, 3, 64, 64]), type=ir_input_type),\n",
    "               InputCutInfo(shape=PartialShape([]), type='i32'),\n",
    "               InputCutInfo(shape=PartialShape([2, 77, 4096]), type=ir_input_type)],\n",
    "        compress_to_fp16=compress_to_fp16,\n",
    "    )\n",
    "\n",
    "    serialize(unet_1_ir, first_stage_unet_ir_path)\n",
    "    \n",
    "    del unet_1_ir\n",
    "\n",
    "stage_1_config = stage_1.unet.config\n",
    "del stage_1.unet\n",
    "gc.collect();"
   ]
  },
  {
   "cell_type": "markdown",
   "id": "69845c5f",
   "metadata": {},
   "source": [
    "## Convert the second pixel diffusion module"
   ]
  },
  {
   "cell_type": "markdown",
   "id": "62def079",
   "metadata": {},
   "source": [
    "The second Diffusion module in the cascade generates 256x256 pixel images."
   ]
  },
  {
   "cell_type": "code",
   "execution_count": null,
   "id": "b6ec825e",
   "metadata": {},
   "outputs": [],
   "source": [
    "%%time\n",
    "\n",
    "if not second_stage_unet_ir_path.exists():\n",
    "    unet_2_ir = mo.convert_model(\n",
    "        stage_2.unet,\n",
    "        input=[InputCutInfo(shape=PartialShape([2, 6, 256, 256]), type=ir_input_type),\n",
    "               InputCutInfo(shape=PartialShape([]), type='i32'),\n",
    "               InputCutInfo(shape=PartialShape([2, 77, 4096]), type=ir_input_type),\n",
    "               InputCutInfo(shape=PartialShape([2]), type='i32'),],\n",
    "        compress_to_fp16=compress_to_fp16,\n",
    "    )\n",
    "\n",
    "    serialize(unet_2_ir, second_stage_unet_ir_path)\n",
    "    \n",
    "    del unet_2_ir\n",
    "    \n",
    "stage_2_config = stage_2.unet.config\n",
    "del stage_2.unet\n",
    "gc.collect();"
   ]
  },
  {
   "cell_type": "markdown",
   "id": "6e578523",
   "metadata": {},
   "source": [
    "## Prepare Inference pipeline\n",
    "\n",
    "The original pipeline from the source repository will be reused in this example. In order to achieve this, adapter classes were created to enable OpenVINO models to replace Pytorch models and integrate seamlessly into the pipeline."
   ]
  },
  {
   "cell_type": "code",
   "execution_count": null,
   "id": "f86c94e9",
   "metadata": {},
   "outputs": [],
   "source": [
    "core = Core()"
   ]
  },
  {
   "cell_type": "code",
   "execution_count": null,
   "id": "f6887246",
   "metadata": {},
   "outputs": [],
   "source": [
    "class TextEncoder:\n",
    "    \"\"\"\n",
    "    Text Encoder Adapter Class.\n",
    "    \n",
    "    This class is designed to seamlessly integrate the OpenVINO compiled model\n",
    "    into the `stage_1.encode_prompt` routine.\n",
    "    \"\"\"\n",
    "\n",
    "    def __init__(self, ir_path: Union[str, Path], dtype: torch.dtype, device: str = 'CPU') -> None:\n",
    "        \"\"\"\n",
    "        Init the adapter with the IR model path.\n",
    "        \n",
    "        Parameters: \n",
    "            ir_path (str, Path): text encoder IR model path\n",
    "            dtype (torch.dtype): result dtype\n",
    "            device (str): inference device\n",
    "        Returns:\n",
    "            None\n",
    "        \"\"\"\n",
    "        self.ir_path = ir_path \n",
    "        self.dtype = dtype\n",
    "        self.encoder_openvino = core.compile_model(self.ir_path, device)\n",
    "        \n",
    "    def __call__(self, *args, **kwargs):\n",
    "        \"\"\"Adapt the network call.\"\"\"\n",
    "        parameters = list(args) + list(kwargs.values())\n",
    "        result = self.encoder_openvino([param.numpy() for param in parameters][0])\n",
    "        result_numpy = result[self.encoder_openvino.outputs[0]]\n",
    "        return [torch.tensor(result_numpy, dtype=self.dtype)]"
   ]
  },
  {
   "cell_type": "code",
   "execution_count": null,
   "id": "af6e4dae",
   "metadata": {},
   "outputs": [],
   "source": [
    "class UnetFirstStage:\n",
    "    \"\"\"\n",
    "    IF Stage-1 Unet Adapter Class.\n",
    "    \n",
    "    This class is designed to seamlessly integrate the OpenVINO compiled model into\n",
    "    the `stage_1` diffusion pipeline.\n",
    "    \"\"\"\n",
    "\n",
    "    def __init__(self, unet_ir_path: Union[str, Path],\n",
    "                 config: diffusers.configuration_utils.FrozenDict,\n",
    "                 dtype: torch.dtype,\n",
    "                 device: str = 'CPU'\n",
    "                 ) -> None:\n",
    "        \"\"\"\n",
    "        Init the adapter with the IR model path and model config.\n",
    "        \n",
    "        Parameters: \n",
    "            unet_ir_path (str, Path): unet IR model path\n",
    "            config (diffusers.configuration_utils.FrozenDict): original model config\n",
    "            dtype (torch.dtype): result dtype\n",
    "            device (str): inference device\n",
    "        Returns:\n",
    "            None\n",
    "        \"\"\"\n",
    "        self.unet_openvino = core.compile_model(unet_ir_path, device)\n",
    "        self.config = config\n",
    "        self.dtype = dtype\n",
    "        \n",
    "    def __call__(self, *args, **kwargs):\n",
    "        \"\"\"Adapt the network call.\"\"\"\n",
    "        parameters = [*args, kwargs['encoder_hidden_states']]\n",
    "        result = self.unet_openvino(parameters)\n",
    "        result_numpy = result[self.unet_openvino.outputs[0]]\n",
    "        # the stage 1 pipeline expects an object with a `sample` attribute\n",
    "        class a:\n",
    "            sample = torch.tensor(result_numpy, dtype=self.dtype)\n",
    "        return a\n",
    "\n",
    "\n",
    "class UnetSecondStage:\n",
    "    \"\"\"\n",
    "    IF Stage-2 Unet Adapter Class.\n",
    "    \n",
    "    This class is designed to seamlessly integrate the OpenVINO compiled model into\n",
    "    the `stage_2` diffusion pipeline.\n",
    "    \"\"\"\n",
    "\n",
    "    def __init__(self, unet_ir_path: Union[str, Path],\n",
    "                 config: diffusers.configuration_utils.FrozenDict,\n",
    "                 dtype: torch.dtype,\n",
    "                 device: str = 'CPU'\n",
    "                 ) -> None:\n",
    "        \"\"\"\n",
    "        Init the adapter with the IR model path and model config.\n",
    "        \n",
    "        Parameters: \n",
    "            unet_ir_path (str, Path): unet IR model path\n",
    "            config (diffusers.configuration_utils.FrozenDict): original model config\n",
    "            dtype (torch.dtype): result dtype\n",
    "            device (str): inference device\n",
    "        Returns:\n",
    "            None\n",
    "        \"\"\"\n",
    "        self.unet_openvino = core.compile_model(unet_ir_path, device)\n",
    "        self.config = config\n",
    "        self.dtype = dtype\n",
    "        \n",
    "    def __call__(self, *args, **kwargs):\n",
    "        \"\"\"Adapt the network call.\"\"\"\n",
    "        parameters = [*args, kwargs['encoder_hidden_states'], kwargs['class_labels']]\n",
    "        result = self.unet_openvino(parameters)\n",
    "        result_numpy = result[self.unet_openvino.outputs[0]]\n",
    "        # the stage 2 pipeline expects an object with a `sample` attribute\n",
    "        class a:\n",
    "            sample = torch.tensor(result_numpy, dtype=self.dtype)\n",
    "        return a"
   ]
  },
  {
   "cell_type": "markdown",
   "id": "88cd5641",
   "metadata": {},
   "source": [
    "## Run Text-to-Image generation\n",
    "\n",
    "Now, we can set a text prompt for image generation and execute the inference pipeline. Optionally, you can also modify the random generator seed for latent state initialization and adjust the number of images to be generated for the given prompt."
   ]
  },
  {
   "cell_type": "markdown",
   "id": "c8503b91",
   "metadata": {},
   "source": [
    "### Text Encoder inference"
   ]
  },
  {
   "cell_type": "code",
   "execution_count": null,
   "id": "719fc9c5",
   "metadata": {},
   "outputs": [],
   "source": [
    "%%time\n",
    "\n",
    "# Initialize TextEncoder wrapper class\n",
    "stage_1.text_encoder = TextEncoder(encoder_ir_path, dtype=model_dtype, device=DEVICE)"
   ]
  },
  {
   "cell_type": "code",
   "execution_count": null,
   "id": "4ce5b37b",
   "metadata": {},
   "outputs": [],
   "source": [
    "%%time\n",
    "\n",
    "prompt = 'ultra close-p color photo portrait of rainbow owl with deer horns in the woods'\n",
    "count = 1\n",
    "\n",
    "# Generate text embeddings\n",
    "prompt_embeds, negative_embeds = stage_1.encode_prompt(prompt, num_images_per_prompt=count)\n",
    "\n",
    "# Delete the encoder to free up memory\n",
    "del stage_1.text_encoder.encoder_openvino\n",
    "gc.collect()"
   ]
  },
  {
   "cell_type": "markdown",
   "id": "8a89caf0",
   "metadata": {},
   "source": [
    "### First Stage diffusion block inference"
   ]
  },
  {
   "cell_type": "code",
   "execution_count": null,
   "id": "d6f968dd",
   "metadata": {},
   "outputs": [],
   "source": [
    "%%time\n",
    "\n",
    "# Initialize the First Stage UNet wrapper class\n",
    "stage_1.unet = UnetFirstStage(\n",
    "    first_stage_unet_ir_path,\n",
    "    stage_1_config,\n",
    "    dtype=model_dtype,\n",
    "    device=DEVICE\n",
    ")"
   ]
  },
  {
   "cell_type": "code",
   "execution_count": null,
   "id": "910ca973",
   "metadata": {},
   "outputs": [],
   "source": [
    "%%time\n",
    "\n",
    "generator = torch.manual_seed(142)\n",
    "\n",
    "image = stage_1(prompt_embeds=prompt_embeds, negative_prompt_embeds=negative_embeds,\n",
    "                generator=generator, output_type=\"pt\", num_inference_steps=50).images\n",
    "\n",
    "# Delete the model to free up memory\n",
    "del stage_1.unet.unet_openvino\n",
    "gc.collect()\n",
    "\n",
    "# Show the image\n",
    "pt_to_pil(image)[0]"
   ]
  },
  {
   "cell_type": "markdown",
   "id": "23824abc",
   "metadata": {},
   "source": [
    "### Second Stage diffusion block inference"
   ]
  },
  {
   "cell_type": "code",
   "execution_count": null,
   "id": "37b9d6d8",
   "metadata": {},
   "outputs": [],
   "source": [
    "%%time\n",
    "\n",
    "# Initialize the Second Stage UNet wrapper class\n",
    "stage_2.unet = UnetSecondStage(\n",
    "    second_stage_unet_ir_path,\n",
    "    stage_2_config,\n",
    "    dtype=model_dtype,\n",
    "    device=DEVICE\n",
    ")"
   ]
  },
  {
   "cell_type": "code",
   "execution_count": null,
   "id": "3673615a",
   "metadata": {},
   "outputs": [],
   "source": [
    "%%time\n",
    "\n",
    "image = stage_2(\n",
    "    image=image, prompt_embeds=prompt_embeds, negative_prompt_embeds=negative_embeds, generator=generator, output_type=\"pt\"\n",
    ").images\n",
    "\n",
    "# Delete the model to free up memory\n",
    "del stage_2.unet.unet_openvino\n",
    "gc.collect()\n",
    "\n",
    "# Show the image\n",
    "pt_to_pil(image)[0]"
   ]
  },
  {
   "cell_type": "markdown",
   "id": "14ae78fd",
   "metadata": {},
   "source": [
    "### Third Stage diffusion block\n",
    "The final block, which upscales images to a higher resolution (1024x1024 px), has not been released by DeepFloyd yet. Stay tuned!"
   ]
  }
 ],
 "metadata": {
  "kernelspec": {
   "display_name": "Python 3 (ipykernel)",
   "language": "python",
   "name": "python3"
  },
  "language_info": {
   "codemirror_mode": {
    "name": "ipython",
    "version": 3
   },
   "file_extension": ".py",
   "mimetype": "text/x-python",
   "name": "python",
   "nbconvert_exporter": "python",
   "pygments_lexer": "ipython3",
   "version": "3.10.6"
  }
 },
 "nbformat": 4,
 "nbformat_minor": 5
}
