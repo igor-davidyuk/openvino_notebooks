{
 "cells": [
  {
   "cell_type": "markdown",
   "id": "0fbbf681",
   "metadata": {},
   "source": [
    "# Image generation with DeepFloyd IF and OpenVINO™\n",
    "\n",
    "DeepFloyd IF is an advanced open-source text-to-image model that delivers remarkable photorealism and language comprehension. DeepFloyd IF consists of a frozen text encoder and three cascaded pixel diffusion modules: a base model that creates 64x64 px images based on text prompts and two super-resolution models, each designed to generate images with increasing resolution: 256x256 px and 1024x1024 px. All stages of the model employ a frozen text encoder, built on the T5 transformer, to derive text embeddings, which are then passed to a UNet architecture enhanced with cross-attention and attention pooling.\n",
    "\n",
    "![deepfloyd_if_scheme](https://github.com/deep-floyd/IF/raw/develop/pics/deepfloyd_if_scheme.jpg)\n"
   ]
  },
  {
   "cell_type": "markdown",
   "id": "4bca7602",
   "metadata": {},
   "source": [
    "## Prerequisites\n",
    "Install required packages."
   ]
  },
  {
   "cell_type": "code",
   "execution_count": 39,
   "id": "699e9c54",
   "metadata": {
    "scrolled": true
   },
   "outputs": [
    {
     "name": "stdout",
     "output_type": "stream",
     "text": [
      "Requirement already satisfied: pip in /home/idavidyu/.virtualenvs/if/lib/python3.10/site-packages (23.1.2)\n",
      "Requirement already satisfied: deepfloyd_if==1.0.2rc0 in /home/idavidyu/.virtualenvs/if/lib/python3.10/site-packages (1.0.2rc0)\n",
      "Requirement already satisfied: tqdm in /home/idavidyu/.virtualenvs/if/lib/python3.10/site-packages (from deepfloyd_if==1.0.2rc0) (4.65.0)\n",
      "Requirement already satisfied: numpy in /home/idavidyu/.virtualenvs/if/lib/python3.10/site-packages (from deepfloyd_if==1.0.2rc0) (1.24.3)\n",
      "Requirement already satisfied: torch<2.0.0 in /home/idavidyu/.virtualenvs/if/lib/python3.10/site-packages (from deepfloyd_if==1.0.2rc0) (1.13.1)\n",
      "Requirement already satisfied: torchvision in /home/idavidyu/.virtualenvs/if/lib/python3.10/site-packages (from deepfloyd_if==1.0.2rc0) (0.14.1)\n",
      "Requirement already satisfied: omegaconf in /home/idavidyu/.virtualenvs/if/lib/python3.10/site-packages (from deepfloyd_if==1.0.2rc0) (2.3.0)\n",
      "Requirement already satisfied: matplotlib in /home/idavidyu/.virtualenvs/if/lib/python3.10/site-packages (from deepfloyd_if==1.0.2rc0) (3.7.1)\n",
      "Requirement already satisfied: Pillow>=9.2.0 in /home/idavidyu/.virtualenvs/if/lib/python3.10/site-packages (from deepfloyd_if==1.0.2rc0) (9.5.0)\n",
      "Requirement already satisfied: huggingface-hub>=0.13.2 in /home/idavidyu/.virtualenvs/if/lib/python3.10/site-packages (from deepfloyd_if==1.0.2rc0) (0.14.1)\n",
      "Collecting transformers~=4.25.1 (from deepfloyd_if==1.0.2rc0)\n",
      "  Using cached transformers-4.25.1-py3-none-any.whl (5.8 MB)\n",
      "Collecting accelerate~=0.15.0 (from deepfloyd_if==1.0.2rc0)\n",
      "  Using cached accelerate-0.15.0-py3-none-any.whl (191 kB)\n",
      "Requirement already satisfied: diffusers~=0.16.0 in /home/idavidyu/.virtualenvs/if/lib/python3.10/site-packages (from deepfloyd_if==1.0.2rc0) (0.16.1)\n",
      "Requirement already satisfied: tokenizers~=0.13.2 in /home/idavidyu/.virtualenvs/if/lib/python3.10/site-packages (from deepfloyd_if==1.0.2rc0) (0.13.3)\n",
      "Requirement already satisfied: sentencepiece~=0.1.97 in /home/idavidyu/.virtualenvs/if/lib/python3.10/site-packages (from deepfloyd_if==1.0.2rc0) (0.1.99)\n",
      "Requirement already satisfied: ftfy~=6.1.1 in /home/idavidyu/.virtualenvs/if/lib/python3.10/site-packages (from deepfloyd_if==1.0.2rc0) (6.1.1)\n",
      "Requirement already satisfied: beautifulsoup4~=4.11.1 in /home/idavidyu/.virtualenvs/if/lib/python3.10/site-packages (from deepfloyd_if==1.0.2rc0) (4.11.2)\n",
      "Requirement already satisfied: packaging>=20.0 in /home/idavidyu/.virtualenvs/if/lib/python3.10/site-packages (from accelerate~=0.15.0->deepfloyd_if==1.0.2rc0) (23.1)\n",
      "Requirement already satisfied: psutil in /home/idavidyu/.virtualenvs/if/lib/python3.10/site-packages (from accelerate~=0.15.0->deepfloyd_if==1.0.2rc0) (5.9.5)\n",
      "Requirement already satisfied: pyyaml in /home/idavidyu/.virtualenvs/if/lib/python3.10/site-packages (from accelerate~=0.15.0->deepfloyd_if==1.0.2rc0) (6.0)\n",
      "Requirement already satisfied: soupsieve>1.2 in /home/idavidyu/.virtualenvs/if/lib/python3.10/site-packages (from beautifulsoup4~=4.11.1->deepfloyd_if==1.0.2rc0) (2.4.1)\n",
      "Requirement already satisfied: filelock in /home/idavidyu/.virtualenvs/if/lib/python3.10/site-packages (from diffusers~=0.16.0->deepfloyd_if==1.0.2rc0) (3.12.0)\n",
      "Requirement already satisfied: importlib-metadata in /home/idavidyu/.virtualenvs/if/lib/python3.10/site-packages (from diffusers~=0.16.0->deepfloyd_if==1.0.2rc0) (6.6.0)\n",
      "Requirement already satisfied: regex!=2019.12.17 in /home/idavidyu/.virtualenvs/if/lib/python3.10/site-packages (from diffusers~=0.16.0->deepfloyd_if==1.0.2rc0) (2023.5.5)\n",
      "Requirement already satisfied: requests in /home/idavidyu/.virtualenvs/if/lib/python3.10/site-packages (from diffusers~=0.16.0->deepfloyd_if==1.0.2rc0) (2.30.0)\n",
      "Requirement already satisfied: wcwidth>=0.2.5 in /home/idavidyu/.virtualenvs/if/lib/python3.10/site-packages (from ftfy~=6.1.1->deepfloyd_if==1.0.2rc0) (0.2.6)\n",
      "Requirement already satisfied: fsspec in /home/idavidyu/.virtualenvs/if/lib/python3.10/site-packages (from huggingface-hub>=0.13.2->deepfloyd_if==1.0.2rc0) (2023.5.0)\n",
      "Requirement already satisfied: typing-extensions>=3.7.4.3 in /home/idavidyu/.virtualenvs/if/lib/python3.10/site-packages (from huggingface-hub>=0.13.2->deepfloyd_if==1.0.2rc0) (4.5.0)\n",
      "Requirement already satisfied: nvidia-cuda-runtime-cu11==11.7.99 in /home/idavidyu/.virtualenvs/if/lib/python3.10/site-packages (from torch<2.0.0->deepfloyd_if==1.0.2rc0) (11.7.99)\n",
      "Requirement already satisfied: nvidia-cudnn-cu11==8.5.0.96 in /home/idavidyu/.virtualenvs/if/lib/python3.10/site-packages (from torch<2.0.0->deepfloyd_if==1.0.2rc0) (8.5.0.96)\n",
      "Requirement already satisfied: nvidia-cublas-cu11==11.10.3.66 in /home/idavidyu/.virtualenvs/if/lib/python3.10/site-packages (from torch<2.0.0->deepfloyd_if==1.0.2rc0) (11.10.3.66)\n",
      "Requirement already satisfied: nvidia-cuda-nvrtc-cu11==11.7.99 in /home/idavidyu/.virtualenvs/if/lib/python3.10/site-packages (from torch<2.0.0->deepfloyd_if==1.0.2rc0) (11.7.99)\n",
      "Requirement already satisfied: setuptools in /home/idavidyu/.virtualenvs/if/lib/python3.10/site-packages (from nvidia-cublas-cu11==11.10.3.66->torch<2.0.0->deepfloyd_if==1.0.2rc0) (67.6.1)\n",
      "Requirement already satisfied: wheel in /home/idavidyu/.virtualenvs/if/lib/python3.10/site-packages (from nvidia-cublas-cu11==11.10.3.66->torch<2.0.0->deepfloyd_if==1.0.2rc0) (0.40.0)\n",
      "Requirement already satisfied: contourpy>=1.0.1 in /home/idavidyu/.virtualenvs/if/lib/python3.10/site-packages (from matplotlib->deepfloyd_if==1.0.2rc0) (1.0.7)\n",
      "Requirement already satisfied: cycler>=0.10 in /home/idavidyu/.virtualenvs/if/lib/python3.10/site-packages (from matplotlib->deepfloyd_if==1.0.2rc0) (0.11.0)\n",
      "Requirement already satisfied: fonttools>=4.22.0 in /home/idavidyu/.virtualenvs/if/lib/python3.10/site-packages (from matplotlib->deepfloyd_if==1.0.2rc0) (4.39.3)\n",
      "Requirement already satisfied: kiwisolver>=1.0.1 in /home/idavidyu/.virtualenvs/if/lib/python3.10/site-packages (from matplotlib->deepfloyd_if==1.0.2rc0) (1.4.4)\n",
      "Requirement already satisfied: pyparsing>=2.3.1 in /home/idavidyu/.virtualenvs/if/lib/python3.10/site-packages (from matplotlib->deepfloyd_if==1.0.2rc0) (3.0.9)\n",
      "Requirement already satisfied: python-dateutil>=2.7 in /home/idavidyu/.virtualenvs/if/lib/python3.10/site-packages (from matplotlib->deepfloyd_if==1.0.2rc0) (2.8.2)\n",
      "Requirement already satisfied: antlr4-python3-runtime==4.9.* in /home/idavidyu/.virtualenvs/if/lib/python3.10/site-packages (from omegaconf->deepfloyd_if==1.0.2rc0) (4.9.3)\n",
      "Requirement already satisfied: six>=1.5 in /home/idavidyu/.virtualenvs/if/lib/python3.10/site-packages (from python-dateutil>=2.7->matplotlib->deepfloyd_if==1.0.2rc0) (1.16.0)\n",
      "Requirement already satisfied: zipp>=0.5 in /home/idavidyu/.virtualenvs/if/lib/python3.10/site-packages (from importlib-metadata->diffusers~=0.16.0->deepfloyd_if==1.0.2rc0) (3.15.0)\n",
      "Requirement already satisfied: charset-normalizer<4,>=2 in /home/idavidyu/.virtualenvs/if/lib/python3.10/site-packages (from requests->diffusers~=0.16.0->deepfloyd_if==1.0.2rc0) (3.1.0)\n",
      "Requirement already satisfied: idna<4,>=2.5 in /home/idavidyu/.virtualenvs/if/lib/python3.10/site-packages (from requests->diffusers~=0.16.0->deepfloyd_if==1.0.2rc0) (3.4)\n",
      "Requirement already satisfied: urllib3<3,>=1.21.1 in /home/idavidyu/.virtualenvs/if/lib/python3.10/site-packages (from requests->diffusers~=0.16.0->deepfloyd_if==1.0.2rc0) (2.0.2)\n",
      "Requirement already satisfied: certifi>=2017.4.17 in /home/idavidyu/.virtualenvs/if/lib/python3.10/site-packages (from requests->diffusers~=0.16.0->deepfloyd_if==1.0.2rc0) (2023.5.7)\n",
      "Installing collected packages: transformers, accelerate\n",
      "  Attempting uninstall: transformers\n",
      "    Found existing installation: transformers 4.28.1\n",
      "    Uninstalling transformers-4.28.1:\n",
      "      Successfully uninstalled transformers-4.28.1\n",
      "  Attempting uninstall: accelerate\n",
      "    Found existing installation: accelerate 0.19.0\n",
      "    Uninstalling accelerate-0.19.0:\n",
      "      Successfully uninstalled accelerate-0.19.0\n",
      "Successfully installed accelerate-0.15.0 transformers-4.25.1\n",
      "Requirement already satisfied: xformers==0.0.16 in /home/idavidyu/.virtualenvs/if/lib/python3.10/site-packages (0.0.16)\n",
      "Requirement already satisfied: numpy in /home/idavidyu/.virtualenvs/if/lib/python3.10/site-packages (from xformers==0.0.16) (1.24.3)\n"
     ]
    },
    {
     "name": "stdout",
     "output_type": "stream",
     "text": [
      "Requirement already satisfied: pyre-extensions==0.0.23 in /home/idavidyu/.virtualenvs/if/lib/python3.10/site-packages (from xformers==0.0.16) (0.0.23)\n",
      "Requirement already satisfied: torch==1.13.1 in /home/idavidyu/.virtualenvs/if/lib/python3.10/site-packages (from xformers==0.0.16) (1.13.1)\n",
      "Requirement already satisfied: typing-inspect in /home/idavidyu/.virtualenvs/if/lib/python3.10/site-packages (from pyre-extensions==0.0.23->xformers==0.0.16) (0.8.0)\n",
      "Requirement already satisfied: typing-extensions in /home/idavidyu/.virtualenvs/if/lib/python3.10/site-packages (from pyre-extensions==0.0.23->xformers==0.0.16) (4.5.0)\n",
      "Requirement already satisfied: nvidia-cuda-runtime-cu11==11.7.99 in /home/idavidyu/.virtualenvs/if/lib/python3.10/site-packages (from torch==1.13.1->xformers==0.0.16) (11.7.99)\n",
      "Requirement already satisfied: nvidia-cudnn-cu11==8.5.0.96 in /home/idavidyu/.virtualenvs/if/lib/python3.10/site-packages (from torch==1.13.1->xformers==0.0.16) (8.5.0.96)\n",
      "Requirement already satisfied: nvidia-cublas-cu11==11.10.3.66 in /home/idavidyu/.virtualenvs/if/lib/python3.10/site-packages (from torch==1.13.1->xformers==0.0.16) (11.10.3.66)\n",
      "Requirement already satisfied: nvidia-cuda-nvrtc-cu11==11.7.99 in /home/idavidyu/.virtualenvs/if/lib/python3.10/site-packages (from torch==1.13.1->xformers==0.0.16) (11.7.99)\n",
      "Requirement already satisfied: setuptools in /home/idavidyu/.virtualenvs/if/lib/python3.10/site-packages (from nvidia-cublas-cu11==11.10.3.66->torch==1.13.1->xformers==0.0.16) (67.6.1)\n",
      "Requirement already satisfied: wheel in /home/idavidyu/.virtualenvs/if/lib/python3.10/site-packages (from nvidia-cublas-cu11==11.10.3.66->torch==1.13.1->xformers==0.0.16) (0.40.0)\n",
      "Requirement already satisfied: mypy-extensions>=0.3.0 in /home/idavidyu/.virtualenvs/if/lib/python3.10/site-packages (from typing-inspect->pyre-extensions==0.0.23->xformers==0.0.16) (1.0.0)\n",
      "Collecting git+https://github.com/openai/CLIP.git\n",
      "  Cloning https://github.com/openai/CLIP.git to /tmp/pip-req-build-dc97emcl\n"
     ]
    },
    {
     "name": "stderr",
     "output_type": "stream",
     "text": [
      "  Running command git clone --filter=blob:none --quiet https://github.com/openai/CLIP.git /tmp/pip-req-build-dc97emcl\n"
     ]
    },
    {
     "name": "stdout",
     "output_type": "stream",
     "text": [
      "  Resolved https://github.com/openai/CLIP.git to commit a9b1bf5920416aaeaec965c25dd9e8f98c864f16\n",
      "  Preparing metadata (setup.py): started\n",
      "  Preparing metadata (setup.py): finished with status 'done'\n",
      "Requirement already satisfied: huggingface_hub in /home/idavidyu/.virtualenvs/if/lib/python3.10/site-packages (0.14.1)\n",
      "Requirement already satisfied: filelock in /home/idavidyu/.virtualenvs/if/lib/python3.10/site-packages (from huggingface_hub) (3.12.0)\n",
      "Requirement already satisfied: fsspec in /home/idavidyu/.virtualenvs/if/lib/python3.10/site-packages (from huggingface_hub) (2023.5.0)\n",
      "Requirement already satisfied: requests in /home/idavidyu/.virtualenvs/if/lib/python3.10/site-packages (from huggingface_hub) (2.30.0)\n",
      "Requirement already satisfied: tqdm>=4.42.1 in /home/idavidyu/.virtualenvs/if/lib/python3.10/site-packages (from huggingface_hub) (4.65.0)\n",
      "Requirement already satisfied: pyyaml>=5.1 in /home/idavidyu/.virtualenvs/if/lib/python3.10/site-packages (from huggingface_hub) (6.0)\n",
      "Requirement already satisfied: typing-extensions>=3.7.4.3 in /home/idavidyu/.virtualenvs/if/lib/python3.10/site-packages (from huggingface_hub) (4.5.0)\n",
      "Requirement already satisfied: packaging>=20.9 in /home/idavidyu/.virtualenvs/if/lib/python3.10/site-packages (from huggingface_hub) (23.1)\n",
      "Requirement already satisfied: charset-normalizer<4,>=2 in /home/idavidyu/.virtualenvs/if/lib/python3.10/site-packages (from requests->huggingface_hub) (3.1.0)\n",
      "Requirement already satisfied: idna<4,>=2.5 in /home/idavidyu/.virtualenvs/if/lib/python3.10/site-packages (from requests->huggingface_hub) (3.4)\n",
      "Requirement already satisfied: urllib3<3,>=1.21.1 in /home/idavidyu/.virtualenvs/if/lib/python3.10/site-packages (from requests->huggingface_hub) (2.0.2)\n",
      "Requirement already satisfied: certifi>=2017.4.17 in /home/idavidyu/.virtualenvs/if/lib/python3.10/site-packages (from requests->huggingface_hub) (2023.5.7)\n",
      "Requirement already satisfied: diffusers in /home/idavidyu/.virtualenvs/if/lib/python3.10/site-packages (0.16.1)\n",
      "Requirement already satisfied: accelerate in /home/idavidyu/.virtualenvs/if/lib/python3.10/site-packages (0.15.0)\n",
      "Collecting accelerate\n",
      "  Using cached accelerate-0.19.0-py3-none-any.whl (219 kB)\n",
      "Requirement already satisfied: transformers in /home/idavidyu/.virtualenvs/if/lib/python3.10/site-packages (4.25.1)\n",
      "Collecting transformers\n",
      "  Using cached transformers-4.28.1-py3-none-any.whl (7.0 MB)\n",
      "Requirement already satisfied: safetensors in /home/idavidyu/.virtualenvs/if/lib/python3.10/site-packages (0.3.1)\n",
      "Requirement already satisfied: Pillow in /home/idavidyu/.virtualenvs/if/lib/python3.10/site-packages (from diffusers) (9.5.0)\n",
      "Requirement already satisfied: filelock in /home/idavidyu/.virtualenvs/if/lib/python3.10/site-packages (from diffusers) (3.12.0)\n",
      "Requirement already satisfied: huggingface-hub>=0.13.2 in /home/idavidyu/.virtualenvs/if/lib/python3.10/site-packages (from diffusers) (0.14.1)\n",
      "Requirement already satisfied: importlib-metadata in /home/idavidyu/.virtualenvs/if/lib/python3.10/site-packages (from diffusers) (6.6.0)\n",
      "Requirement already satisfied: numpy in /home/idavidyu/.virtualenvs/if/lib/python3.10/site-packages (from diffusers) (1.24.3)\n",
      "Requirement already satisfied: regex!=2019.12.17 in /home/idavidyu/.virtualenvs/if/lib/python3.10/site-packages (from diffusers) (2023.5.5)\n",
      "Requirement already satisfied: requests in /home/idavidyu/.virtualenvs/if/lib/python3.10/site-packages (from diffusers) (2.30.0)\n",
      "Requirement already satisfied: packaging>=20.0 in /home/idavidyu/.virtualenvs/if/lib/python3.10/site-packages (from accelerate) (23.1)\n",
      "Requirement already satisfied: psutil in /home/idavidyu/.virtualenvs/if/lib/python3.10/site-packages (from accelerate) (5.9.5)\n",
      "Requirement already satisfied: pyyaml in /home/idavidyu/.virtualenvs/if/lib/python3.10/site-packages (from accelerate) (6.0)\n",
      "Requirement already satisfied: torch>=1.6.0 in /home/idavidyu/.virtualenvs/if/lib/python3.10/site-packages (from accelerate) (1.13.1)\n",
      "Requirement already satisfied: tokenizers!=0.11.3,<0.14,>=0.11.1 in /home/idavidyu/.virtualenvs/if/lib/python3.10/site-packages (from transformers) (0.13.3)\n",
      "Requirement already satisfied: tqdm>=4.27 in /home/idavidyu/.virtualenvs/if/lib/python3.10/site-packages (from transformers) (4.65.0)\n",
      "Requirement already satisfied: fsspec in /home/idavidyu/.virtualenvs/if/lib/python3.10/site-packages (from huggingface-hub>=0.13.2->diffusers) (2023.5.0)\n",
      "Requirement already satisfied: typing-extensions>=3.7.4.3 in /home/idavidyu/.virtualenvs/if/lib/python3.10/site-packages (from huggingface-hub>=0.13.2->diffusers) (4.5.0)\n",
      "Requirement already satisfied: nvidia-cuda-runtime-cu11==11.7.99 in /home/idavidyu/.virtualenvs/if/lib/python3.10/site-packages (from torch>=1.6.0->accelerate) (11.7.99)\n",
      "Requirement already satisfied: nvidia-cudnn-cu11==8.5.0.96 in /home/idavidyu/.virtualenvs/if/lib/python3.10/site-packages (from torch>=1.6.0->accelerate) (8.5.0.96)\n",
      "Requirement already satisfied: nvidia-cublas-cu11==11.10.3.66 in /home/idavidyu/.virtualenvs/if/lib/python3.10/site-packages (from torch>=1.6.0->accelerate) (11.10.3.66)\n",
      "Requirement already satisfied: nvidia-cuda-nvrtc-cu11==11.7.99 in /home/idavidyu/.virtualenvs/if/lib/python3.10/site-packages (from torch>=1.6.0->accelerate) (11.7.99)\n",
      "Requirement already satisfied: setuptools in /home/idavidyu/.virtualenvs/if/lib/python3.10/site-packages (from nvidia-cublas-cu11==11.10.3.66->torch>=1.6.0->accelerate) (67.6.1)\n",
      "Requirement already satisfied: wheel in /home/idavidyu/.virtualenvs/if/lib/python3.10/site-packages (from nvidia-cublas-cu11==11.10.3.66->torch>=1.6.0->accelerate) (0.40.0)\n",
      "Requirement already satisfied: zipp>=0.5 in /home/idavidyu/.virtualenvs/if/lib/python3.10/site-packages (from importlib-metadata->diffusers) (3.15.0)\n",
      "Requirement already satisfied: charset-normalizer<4,>=2 in /home/idavidyu/.virtualenvs/if/lib/python3.10/site-packages (from requests->diffusers) (3.1.0)\n",
      "Requirement already satisfied: idna<4,>=2.5 in /home/idavidyu/.virtualenvs/if/lib/python3.10/site-packages (from requests->diffusers) (3.4)\n",
      "Requirement already satisfied: urllib3<3,>=1.21.1 in /home/idavidyu/.virtualenvs/if/lib/python3.10/site-packages (from requests->diffusers) (2.0.2)\n",
      "Requirement already satisfied: certifi>=2017.4.17 in /home/idavidyu/.virtualenvs/if/lib/python3.10/site-packages (from requests->diffusers) (2023.5.7)\n",
      "Installing collected packages: transformers, accelerate\n",
      "  Attempting uninstall: transformers\n",
      "    Found existing installation: transformers 4.25.1\n",
      "    Uninstalling transformers-4.25.1:\n",
      "      Successfully uninstalled transformers-4.25.1\n",
      "  Attempting uninstall: accelerate\n",
      "    Found existing installation: accelerate 0.15.0\n",
      "    Uninstalling accelerate-0.15.0:\n",
      "      Successfully uninstalled accelerate-0.15.0\n"
     ]
    },
    {
     "name": "stderr",
     "output_type": "stream",
     "text": [
      "ERROR: pip's dependency resolver does not currently take into account all the packages that are installed. This behaviour is the source of the following dependency conflicts.\n",
      "deepfloyd-if 1.0.2rc0 requires accelerate~=0.15.0, but you have accelerate 0.19.0 which is incompatible.\n",
      "deepfloyd-if 1.0.2rc0 requires transformers~=4.25.1, but you have transformers 4.28.1 which is incompatible.\n"
     ]
    },
    {
     "name": "stdout",
     "output_type": "stream",
     "text": [
      "Successfully installed accelerate-0.19.0 transformers-4.28.1\n",
      "Requirement already satisfied: openvino-dev==2023.0.0.dev20230427 in /home/idavidyu/.virtualenvs/if/lib/python3.10/site-packages (2023.0.0.dev20230427)\n",
      "Requirement already satisfied: addict>=2.4.0 in /home/idavidyu/.virtualenvs/if/lib/python3.10/site-packages (from openvino-dev==2023.0.0.dev20230427) (2.4.0)\n",
      "Requirement already satisfied: defusedxml>=0.7.1 in /home/idavidyu/.virtualenvs/if/lib/python3.10/site-packages (from openvino-dev==2023.0.0.dev20230427) (0.7.1)\n",
      "Requirement already satisfied: jstyleson>=0.0.2 in /home/idavidyu/.virtualenvs/if/lib/python3.10/site-packages (from openvino-dev==2023.0.0.dev20230427) (0.0.2)\n",
      "Requirement already satisfied: networkx<=2.8.8 in /home/idavidyu/.virtualenvs/if/lib/python3.10/site-packages (from openvino-dev==2023.0.0.dev20230427) (2.8.8)\n",
      "Requirement already satisfied: numpy>=1.16.6 in /home/idavidyu/.virtualenvs/if/lib/python3.10/site-packages (from openvino-dev==2023.0.0.dev20230427) (1.24.3)\n",
      "Requirement already satisfied: opencv-python in /home/idavidyu/.virtualenvs/if/lib/python3.10/site-packages (from openvino-dev==2023.0.0.dev20230427) (4.7.0.72)\n",
      "Requirement already satisfied: openvino-telemetry>=2022.1.0 in /home/idavidyu/.virtualenvs/if/lib/python3.10/site-packages (from openvino-dev==2023.0.0.dev20230427) (2022.3.0)\n",
      "Requirement already satisfied: pillow>=8.1.2 in /home/idavidyu/.virtualenvs/if/lib/python3.10/site-packages (from openvino-dev==2023.0.0.dev20230427) (9.5.0)\n",
      "Requirement already satisfied: pyyaml>=5.4.1 in /home/idavidyu/.virtualenvs/if/lib/python3.10/site-packages (from openvino-dev==2023.0.0.dev20230427) (6.0)\n",
      "Requirement already satisfied: requests>=2.25.1 in /home/idavidyu/.virtualenvs/if/lib/python3.10/site-packages (from openvino-dev==2023.0.0.dev20230427) (2.30.0)\n",
      "Requirement already satisfied: texttable>=1.6.3 in /home/idavidyu/.virtualenvs/if/lib/python3.10/site-packages (from openvino-dev==2023.0.0.dev20230427) (1.6.7)\n",
      "Requirement already satisfied: tqdm>=4.54.1 in /home/idavidyu/.virtualenvs/if/lib/python3.10/site-packages (from openvino-dev==2023.0.0.dev20230427) (4.65.0)\n",
      "Requirement already satisfied: openvino==2023.0.0.dev20230427 in /home/idavidyu/.virtualenvs/if/lib/python3.10/site-packages (from openvino-dev==2023.0.0.dev20230427) (2023.0.0.dev20230427)\n",
      "Requirement already satisfied: scipy>=1.8 in /home/idavidyu/.virtualenvs/if/lib/python3.10/site-packages (from openvino-dev==2023.0.0.dev20230427) (1.10.1)\n",
      "Requirement already satisfied: charset-normalizer<4,>=2 in /home/idavidyu/.virtualenvs/if/lib/python3.10/site-packages (from requests>=2.25.1->openvino-dev==2023.0.0.dev20230427) (3.1.0)\n",
      "Requirement already satisfied: idna<4,>=2.5 in /home/idavidyu/.virtualenvs/if/lib/python3.10/site-packages (from requests>=2.25.1->openvino-dev==2023.0.0.dev20230427) (3.4)\n",
      "Requirement already satisfied: urllib3<3,>=1.21.1 in /home/idavidyu/.virtualenvs/if/lib/python3.10/site-packages (from requests>=2.25.1->openvino-dev==2023.0.0.dev20230427) (2.0.2)\n",
      "Requirement already satisfied: certifi>=2017.4.17 in /home/idavidyu/.virtualenvs/if/lib/python3.10/site-packages (from requests>=2.25.1->openvino-dev==2023.0.0.dev20230427) (2023.5.7)\n"
     ]
    }
   ],
   "source": [
    "%%bash\n",
    "# Set up requirements\n",
    "\n",
    "pip install --upgrade pip\n",
    "pip install deepfloyd_if==1.0.2rc0\n",
    "pip install xformers==0.0.16\n",
    "pip install git+https://github.com/openai/CLIP.git --no-deps\n",
    "pip install huggingface_hub\n",
    "pip install --upgrade diffusers accelerate transformers safetensors\n",
    "# pip install openvino-dev==2023.0.0.dev20230407\n",
    "pip install openvino-dev==2023.0.0.dev20230427"
   ]
  },
  {
   "cell_type": "code",
   "execution_count": 4,
   "id": "7701f776",
   "metadata": {},
   "outputs": [],
   "source": [
    "import gc\n",
    "import os\n",
    "from pathlib import Path\n",
    "from typing import Union, List\n",
    "\n",
    "import diffusers\n",
    "from diffusers import DiffusionPipeline\n",
    "from diffusers.utils import pt_to_pil\n",
    "from openvino.runtime import Core, PartialShape, serialize\n",
    "from openvino.tools import mo\n",
    "from openvino.tools.mo.convert import InputCutInfo\n",
    "import torch"
   ]
  },
  {
   "cell_type": "code",
   "execution_count": 5,
   "id": "4e1c7f4c",
   "metadata": {},
   "outputs": [],
   "source": [
    "# Set up target computing device\n",
    "DEVICE = 'CPU'  # 'GPU' is also an option\n",
    "\n",
    "if DEVICE=='CPU':\n",
    "    checkpoint_variant = 'fp32'\n",
    "    model_dtype = torch.float32\n",
    "    ir_input_type = 'f32'\n",
    "    compress_to_fp16 = False\n",
    "elif DEVICE=='GPU':\n",
    "    checkpoint_variant = 'fp32'\n",
    "    model_dtype = torch.float32\n",
    "    ir_input_type = 'f16'\n",
    "    compress_to_fp16 = True\n",
    "\n",
    "models_dir = Path('./models')\n",
    "models_dir.mkdir(exist_ok=True)\n",
    "\n",
    "encoder_ir_path = models_dir / 'encoder_ir.xml'\n",
    "first_stage_unet_ir_path = models_dir / 'unet_ir_I_l.xml'\n",
    "second_stage_unet_ir_path = models_dir / 'unet_ir_II_m.xml'"
   ]
  },
  {
   "cell_type": "markdown",
   "id": "678f032a",
   "metadata": {},
   "source": [
    "### Authentication\n",
    "In order to access IF checkpoints, users need to provide an authentication token. To generate a token, follow the link displayed in the cell output.\n",
    "Uncheck the `Add token as git credential?` box."
   ]
  },
  {
   "cell_type": "code",
   "execution_count": null,
   "id": "e82d3344",
   "metadata": {},
   "outputs": [],
   "source": [
    "from huggingface_hub import login\n",
    "\n",
    "login()"
   ]
  },
  {
   "cell_type": "markdown",
   "id": "58a93f32",
   "metadata": {},
   "source": [
    "## Stable Diffusion in Diffusers library\n",
    "To work with IF by DeepFloyd Lab, we will use Hugging Face Diffusers library. To experiment with diffusion models, Diffusers exposes the DiffusionPipeline. The code below demonstrates how to create a DiffusionPipeline using IF configs:"
   ]
  },
  {
   "cell_type": "code",
   "execution_count": 6,
   "id": "5001b4dc",
   "metadata": {
    "scrolled": true
   },
   "outputs": [
    {
     "name": "stderr",
     "output_type": "stream",
     "text": [
      "The config attributes {'lambda_min_clipped': -5.1} were passed to DDPMScheduler, but are not expected and will be ignored. Please verify your scheduler_config.json configuration file.\n"
     ]
    },
    {
     "data": {
      "application/vnd.jupyter.widget-view+json": {
       "model_id": "245cd09a5c144da9a0353693cb0e1488",
       "version_major": 2,
       "version_minor": 0
      },
      "text/plain": [
       "Loading checkpoint shards:   0%|          | 0/2 [00:00<?, ?it/s]"
      ]
     },
     "metadata": {},
     "output_type": "display_data"
    },
    {
     "name": "stderr",
     "output_type": "stream",
     "text": [
      "The config attributes {'lambda_min_clipped': -5.1} were passed to DDPMScheduler, but are not expected and will be ignored. Please verify your scheduler_config.json configuration file.\n"
     ]
    },
    {
     "name": "stdout",
     "output_type": "stream",
     "text": [
      "CPU times: user 1.52 s, sys: 138 ms, total: 1.66 s\n",
      "Wall time: 10.3 s\n"
     ]
    }
   ],
   "source": [
    "%%time\n",
    "\n",
    "#Downloading the model weights may take some time. The approximate total checkpoints size is 27GB.\n",
    "stage_1 = DiffusionPipeline.from_pretrained(\n",
    "    \"DeepFloyd/IF-I-L-v1.0\",\n",
    "    variant=checkpoint_variant,\n",
    "#     torch_dtype=model_dtype\n",
    ")\n",
    "\n",
    "stage_2 = DiffusionPipeline.from_pretrained(\n",
    "    \"DeepFloyd/IF-II-M-v1.0\",\n",
    "    text_encoder=None,\n",
    "    variant=checkpoint_variant,\n",
    "#     torch_dtype=model_dtype\n",
    ")"
   ]
  },
  {
   "cell_type": "markdown",
   "id": "84b8cd8f",
   "metadata": {},
   "source": [
    "## Convert models to OpenVINO Intermediate representation (IR) format\n",
    "The OpenVINO Model Optimizer enables direct conversion of PyTorch models. We will utilize the mo.convert_model method to acquire OpenVINO IR versions of the models. This requires providing a model object, input data for model tracing, and other relevant parameters. The use_legacy_frontend=True parameter instructs the Model Optimizer to employ the ONNX model format as an intermediate step, as opposed to using the PyTorch JIT compiler, which is not optimal for our situation.\n",
    "\n",
    "The pipeline consists of three important parts:\n",
    "\n",
    " - A Text Encoder that translates user prompts to vectors in the latent space that the Diffusion model can understand.\n",
    " - A Stage 1 U-Net for step-by-step denoising latent image representation.\n",
    " - A Stage 2 U-Net that takes low resolution output from the previous step and the latent representations to upscale the resulting image.\n",
    " \n",
    "Let us convert each part"
   ]
  },
  {
   "cell_type": "markdown",
   "id": "c44d2557",
   "metadata": {},
   "source": [
    "## 1. Convert Text Encoder\n",
    "\n",
    "The text encoder is responsible for converting the input prompt, such as \"ultra close-up color photo portrait of rainbow owl with deer horns in the woods\" into an embedding space that can be fed to the next stage's U-Net. Typically, it is a transformer-based encoder that maps a sequence of input tokens to a sequence of text embeddings.\n",
    "\n",
    "The input for the text encoder consists of a tensor `input_ids`, which contains token indices from the text processed by the tokenizer and padded to the maximum length accepted by the model, and `attention_mask`, which marks relevant tokens with 1s and padded tokens with 0s."
   ]
  },
  {
   "cell_type": "code",
   "execution_count": 7,
   "id": "a617d3f0",
   "metadata": {
    "scrolled": true
   },
   "outputs": [
    {
     "name": "stdout",
     "output_type": "stream",
     "text": [
      "CPU times: user 1min 50s, sys: 32.2 s, total: 2min 22s\n",
      "Wall time: 52.7 s\n"
     ]
    }
   ],
   "source": [
    "%%time\n",
    "\n",
    "if not encoder_ir_path.exists():\n",
    "    encoder_ir = mo.convert_model(\n",
    "        stage_1.text_encoder,\n",
    "        input=[InputCutInfo(shape=PartialShape([-1,77]), type='i32'),\n",
    "               InputCutInfo(shape=PartialShape([-1,77]), type='i32')],\n",
    "        compress_to_fp16=compress_to_fp16,\n",
    "        progress=True,\n",
    "    )\n",
    "    \n",
    "    # Serialize the IR model to disk, we will load it at inference time\n",
    "    serialize(encoder_ir, encoder_ir_path)\n",
    "    del encoder_ir\n",
    "    \n",
    "del stage_1.text_encoder\n",
    "gc.collect();"
   ]
  },
  {
   "cell_type": "markdown",
   "id": "b5214461",
   "metadata": {},
   "source": [
    "## Convert the first Pixel Diffusion module's UNet\n",
    "\n",
    "U-Net model gradually denoises latent image representation guided by text encoder hidden state.\n",
    "\n",
    "U-Net model has three inputs:\n",
    "\n",
    "`sample` - latent image sample from previous step. Generation process has not been started yet, so you will use random noise.\n",
    "`timestep` - current scheduler step.\n",
    "`encoder_hidden_state` - hidden state of text encoder.\n",
    "Model predicts the sample state for the next step.\n",
    "\n",
    "The first Diffusion module in the cascade generates 64x64 pixel low resolution images."
   ]
  },
  {
   "cell_type": "code",
   "execution_count": 8,
   "id": "8adf1419",
   "metadata": {},
   "outputs": [
    {
     "name": "stderr",
     "output_type": "stream",
     "text": [
      "/home/idavidyu/.virtualenvs/if/lib/python3.10/site-packages/diffusers/models/unet_2d_condition.py:650: TracerWarning: Converting a tensor to a Python boolean might cause the trace to be incorrect. We can't record the data flow of Python values, so this value will be treated as a constant in the future. This means that the trace might not generalize to other inputs!\n",
      "  if any(s % default_overall_up_factor != 0 for s in sample.shape[-2:]):\n",
      "/home/idavidyu/.virtualenvs/if/lib/python3.10/site-packages/diffusers/models/resnet.py:200: TracerWarning: Converting a tensor to a Python boolean might cause the trace to be incorrect. We can't record the data flow of Python values, so this value will be treated as a constant in the future. This means that the trace might not generalize to other inputs!\n",
      "  assert hidden_states.shape[1] == self.channels\n",
      "/home/idavidyu/.virtualenvs/if/lib/python3.10/site-packages/diffusers/models/resnet.py:205: TracerWarning: Converting a tensor to a Python boolean might cause the trace to be incorrect. We can't record the data flow of Python values, so this value will be treated as a constant in the future. This means that the trace might not generalize to other inputs!\n",
      "  assert hidden_states.shape[1] == self.channels\n",
      "/home/idavidyu/.virtualenvs/if/lib/python3.10/site-packages/diffusers/models/resnet.py:563: TracerWarning: Converting a tensor to a Python boolean might cause the trace to be incorrect. We can't record the data flow of Python values, so this value will be treated as a constant in the future. This means that the trace might not generalize to other inputs!\n",
      "  if hidden_states.shape[0] >= 64:\n",
      "/home/idavidyu/.virtualenvs/if/lib/python3.10/site-packages/diffusers/models/resnet.py:127: TracerWarning: Converting a tensor to a Python boolean might cause the trace to be incorrect. We can't record the data flow of Python values, so this value will be treated as a constant in the future. This means that the trace might not generalize to other inputs!\n",
      "  assert hidden_states.shape[1] == self.channels\n",
      "/home/idavidyu/.virtualenvs/if/lib/python3.10/site-packages/diffusers/models/resnet.py:140: TracerWarning: Converting a tensor to a Python boolean might cause the trace to be incorrect. We can't record the data flow of Python values, so this value will be treated as a constant in the future. This means that the trace might not generalize to other inputs!\n",
      "  if hidden_states.shape[0] >= 64:\n"
     ]
    },
    {
     "name": "stdout",
     "output_type": "stream",
     "text": [
      "CPU times: user 2min 41s, sys: 51.5 s, total: 3min 33s\n",
      "Wall time: 1min 38s\n"
     ]
    }
   ],
   "source": [
    "%%time\n",
    "\n",
    "if not first_stage_unet_ir_path.exists():\n",
    "    unet_1_ir = mo.convert_model(\n",
    "        stage_1.unet,\n",
    "        input=[InputCutInfo(shape=PartialShape([-1, 3, 64, 64]), type=ir_input_type),\n",
    "               InputCutInfo(shape=PartialShape([]), type='i32'),\n",
    "               InputCutInfo(shape=PartialShape([-1, 77, 4096]), type=ir_input_type)],\n",
    "        compress_to_fp16=compress_to_fp16,\n",
    "        progress=True,\n",
    "    )\n",
    "\n",
    "    serialize(unet_1_ir, first_stage_unet_ir_path)\n",
    "    \n",
    "    del unet_1_ir\n",
    "\n",
    "stage_1_config = stage_1.unet.config\n",
    "del stage_1.unet\n",
    "gc.collect();"
   ]
  },
  {
   "cell_type": "markdown",
   "id": "69845c5f",
   "metadata": {},
   "source": [
    "## Convert the second pixel diffusion module"
   ]
  },
  {
   "cell_type": "markdown",
   "id": "62def079",
   "metadata": {},
   "source": [
    "The second Diffusion module in the cascade generates 256x256 pixel images."
   ]
  },
  {
   "cell_type": "code",
   "execution_count": 10,
   "id": "b6ec825e",
   "metadata": {},
   "outputs": [
    {
     "name": "stdout",
     "output_type": "stream",
     "text": [
      "CPU times: user 2min 44s, sys: 19.7 s, total: 3min 3s\n",
      "Wall time: 20.4 s\n"
     ]
    }
   ],
   "source": [
    "%%time\n",
    "\n",
    "if not second_stage_unet_ir_path.exists():\n",
    "    unet_2_ir = mo.convert_model(\n",
    "        stage_2.unet,\n",
    "        input=[InputCutInfo(shape=PartialShape([-1, 6, 256, 256]), type=ir_input_type),\n",
    "               InputCutInfo(shape=PartialShape([]), type='i32'),\n",
    "               InputCutInfo(shape=PartialShape([-1, 77, 4096]), type=ir_input_type),\n",
    "               InputCutInfo(shape=PartialShape([-1]), type='i32'),],\n",
    "        compress_to_fp16=compress_to_fp16,\n",
    "        progress=True,\n",
    "    )\n",
    "\n",
    "    serialize(unet_2_ir, second_stage_unet_ir_path)\n",
    "    \n",
    "    del unet_2_ir\n",
    "    \n",
    "stage_2_config = stage_2.unet.config\n",
    "del stage_2.unet\n",
    "gc.collect();"
   ]
  },
  {
   "cell_type": "markdown",
   "id": "6e578523",
   "metadata": {},
   "source": [
    "## Prepare Inference pipeline\n",
    "\n",
    "The original pipeline from the source repository will be reused in this example. In order to achieve this, adapter classes were created to enable OpenVINO models to replace Pytorch models and integrate seamlessly into the pipeline."
   ]
  },
  {
   "cell_type": "code",
   "execution_count": 11,
   "id": "f86c94e9",
   "metadata": {},
   "outputs": [],
   "source": [
    "core = Core()"
   ]
  },
  {
   "cell_type": "code",
   "execution_count": 12,
   "id": "f6887246",
   "metadata": {},
   "outputs": [],
   "source": [
    "class TextEncoder:\n",
    "    \"\"\"\n",
    "    Text Encoder Adapter Class.\n",
    "    \n",
    "    This class is designed to seamlessly integrate the OpenVINO compiled model into the `stage_1.encode_prompt` routine.\n",
    "    \"\"\"\n",
    "\n",
    "    def __init__(self, ir_path: Union[str, Path], dtype: torch.dtype, device: str = 'CPU'):\n",
    "        \"\"\"Init the adapter with the IR model path.\"\"\"\n",
    "        self.ir_path = ir_path \n",
    "        self.dtype = dtype\n",
    "        self.device = device\n",
    "        \n",
    "    def __call__(self, *args, **kwargs):\n",
    "        \"\"\"Adapt the network call.\"\"\"\n",
    "        self.encoder_openvino = core.compile_model(self.ir_path, self.device)\n",
    "        try:\n",
    "            result = self.encoder_openvino(list(args) + list(kwargs.values()))\n",
    "            result_numpy = result[self.encoder_openvino.outputs[0]]\n",
    "        finally:\n",
    "            # Remove the encoder once it did its job\n",
    "            del self.encoder_openvino\n",
    "            gc.collect()\n",
    "        return [torch.tensor(result_numpy, dtype=self.dtype)]"
   ]
  },
  {
   "cell_type": "code",
   "execution_count": 13,
   "id": "af6e4dae",
   "metadata": {},
   "outputs": [],
   "source": [
    "class UnetFirstStage:\n",
    "    \"\"\"\n",
    "    IF Stage-1 Unet Adapter Class.\n",
    "    \n",
    "    This class is designed to seamlessly integrate the OpenVINO compiled model into\n",
    "    the `stage_1` diffusion pipeline.\n",
    "    \"\"\"\n",
    "\n",
    "    def __init__(self, unet_ir_path: Union[str, Path],\n",
    "                 config: diffusers.configuration_utils.FrozenDict,\n",
    "                 dtype: torch.dtype,\n",
    "                 device: str = 'CPU'\n",
    "                ):\n",
    "        \"\"\"Init the adapter with the IR model path and model config.\"\"\"\n",
    "        self.unet_openvino = core.compile_model(unet_ir_path, device)\n",
    "        self.config = config\n",
    "        self.dtype = dtype\n",
    "        \n",
    "    def __call__(self, *args, **kwargs):\n",
    "        \"\"\"Adapt the network call.\"\"\"\n",
    "        parameters = [*args, kwargs['encoder_hidden_states']]\n",
    "        result = self.unet_openvino(parameters)\n",
    "        result_numpy = result[self.unet_openvino.outputs[0]]\n",
    "        # the stage 1 pipeline expects an object with a `sample` attribute\n",
    "        class a:\n",
    "            sample = torch.tensor(result_numpy, dtype=self.dtype)\n",
    "        return a\n",
    "\n",
    "\n",
    "class UnetSecondStage:\n",
    "    \"\"\"\n",
    "    IF Stage-2 Unet Adapter Class.\n",
    "    \n",
    "    This class is designed to seamlessly integrate the OpenVINO compiled model into\n",
    "    the `stage_2` diffusion pipeline.\n",
    "    \"\"\"\n",
    "\n",
    "    def __init__(self, unet_ir_path: Union[str, Path],\n",
    "                 config: diffusers.configuration_utils.FrozenDict,\n",
    "                 dtype: torch.dtype,\n",
    "                 device: str = 'CPU'\n",
    "                ):\n",
    "        \"\"\"Init the adapter with the IR model path and model config.\"\"\"\n",
    "        self.unet_openvino = core.compile_model(unet_ir_path, device)\n",
    "        self.config = config\n",
    "        self.dtype = dtype\n",
    "        \n",
    "    def __call__(self, *args, **kwargs):\n",
    "        \"\"\"Adapt the network call.\"\"\"\n",
    "        parameters = [*args, kwargs['encoder_hidden_states'], kwargs['class_labels']]\n",
    "        result = self.unet_openvino(parameters)\n",
    "        result_numpy = result[self.unet_openvino.outputs[0]]\n",
    "        # the stage 2 pipeline expects an object with a `sample` attribute\n",
    "        class a:\n",
    "            sample = torch.tensor(result_numpy, dtype=self.dtype)\n",
    "        return a"
   ]
  },
  {
   "cell_type": "markdown",
   "id": "88cd5641",
   "metadata": {},
   "source": [
    "## Run Text-to-Image generation\n",
    "\n",
    "Now, we can set a text prompt for image generation and execute the inference pipeline. Optionally, you can also modify the random generator seed for latent state initialization and adjust the number of images to be generated for the given prompt."
   ]
  },
  {
   "cell_type": "code",
   "execution_count": 14,
   "id": "719fc9c5",
   "metadata": {},
   "outputs": [
    {
     "name": "stdout",
     "output_type": "stream",
     "text": [
      "CPU times: user 29 µs, sys: 7 µs, total: 36 µs\n",
      "Wall time: 52.2 µs\n"
     ]
    }
   ],
   "source": [
    "%%time\n",
    "\n",
    "stage_1.text_encoder = TextEncoder(encoder_ir_path, dtype=model_dtype)"
   ]
  },
  {
   "cell_type": "code",
   "execution_count": 15,
   "id": "4ce5b37b",
   "metadata": {},
   "outputs": [
    {
     "name": "stderr",
     "output_type": "stream",
     "text": [
      "/home/idavidyu/.virtualenvs/if/lib/python3.10/site-packages/diffusers/configuration_utils.py:135: FutureWarning: Accessing config attribute `unet` directly via 'IFPipeline' object attribute is deprecated. Please access 'unet' over 'IFPipeline's config object instead, e.g. 'scheduler.config.unet'.\n",
      "  deprecate(\"direct config name access\", \"1.0.0\", deprecation_message, standard_warn=False)\n"
     ]
    },
    {
     "name": "stdout",
     "output_type": "stream",
     "text": [
      "CPU times: user 56.9 s, sys: 19.2 s, total: 1min 16s\n",
      "Wall time: 10.2 s\n"
     ]
    }
   ],
   "source": [
    "%%time\n",
    "\n",
    "prompt = 'uultra close-p color photo portrait of rainbow owl with deer horns in the woods'\n",
    "count = 1\n",
    "\n",
    "# text embeds\n",
    "prompt_embeds, negative_embeds = stage_1.encode_prompt(prompt, num_images_per_prompt=count)"
   ]
  },
  {
   "cell_type": "code",
   "execution_count": 16,
   "id": "d6f968dd",
   "metadata": {},
   "outputs": [
    {
     "name": "stdout",
     "output_type": "stream",
     "text": [
      "CPU times: user 6.01 s, sys: 1.17 s, total: 7.18 s\n",
      "Wall time: 5.69 s\n"
     ]
    }
   ],
   "source": [
    "%%time\n",
    "\n",
    "stage_1.unet = UnetFirstStage(first_stage_unet_ir_path, stage_1_config, dtype=model_dtype)"
   ]
  },
  {
   "cell_type": "code",
   "execution_count": 17,
   "id": "910ca973",
   "metadata": {},
   "outputs": [
    {
     "data": {
      "application/vnd.jupyter.widget-view+json": {
       "model_id": "265fdab8cfc24d01b2a14dfa96f9f916",
       "version_major": 2,
       "version_minor": 0
      },
      "text/plain": [
       "  0%|          | 0/100 [00:00<?, ?it/s]"
      ]
     },
     "metadata": {},
     "output_type": "display_data"
    },
    {
     "name": "stdout",
     "output_type": "stream",
     "text": [
      "CPU times: user 21min 52s, sys: 11.9 s, total: 22min 4s\n",
      "Wall time: 1min 18s\n"
     ]
    },
    {
     "data": {
      "image/png": "[encoded data removed]",
      "text/plain": [
       "<PIL.Image.Image image mode=RGB size=64x64>"
      ]
     },
     "execution_count": 17,
     "metadata": {},
     "output_type": "execute_result"
    }
   ],
   "source": [
    "%%time\n",
    "\n",
    "generator = torch.manual_seed(142)\n",
    "\n",
    "image = stage_1(prompt_embeds=prompt_embeds, negative_prompt_embeds=negative_embeds, generator=generator, output_type=\"pt\").images\n",
    "pt_to_pil(image)[0]"
   ]
  },
  {
   "cell_type": "code",
   "execution_count": 18,
   "id": "37b9d6d8",
   "metadata": {},
   "outputs": [
    {
     "name": "stdout",
     "output_type": "stream",
     "text": [
      "CPU times: user 4.3 s, sys: 683 ms, total: 4.98 s\n",
      "Wall time: 4.06 s\n"
     ]
    }
   ],
   "source": [
    "%%time\n",
    "\n",
    "stage_2.unet = UnetSecondStage(second_stage_unet_ir_path, stage_2_config, dtype=model_dtype)"
   ]
  },
  {
   "cell_type": "code",
   "execution_count": 19,
   "id": "3673615a",
   "metadata": {},
   "outputs": [
    {
     "data": {
      "application/vnd.jupyter.widget-view+json": {
       "model_id": "2591ed075be64b5ea69abaa690f09d0d",
       "version_major": 2,
       "version_minor": 0
      },
      "text/plain": [
       "  0%|          | 0/50 [00:00<?, ?it/s]"
      ]
     },
     "metadata": {},
     "output_type": "display_data"
    },
    {
     "name": "stdout",
     "output_type": "stream",
     "text": [
      "CPU times: user 27min 9s, sys: 8.19 s, total: 27min 17s\n",
      "Wall time: 1min 41s\n"
     ]
    },
    {
     "data": {
      "image/png": "[encoded data removed]",
      "text/plain": [
       "<PIL.Image.Image image mode=RGB size=256x256>"
      ]
     },
     "execution_count": 19,
     "metadata": {},
     "output_type": "execute_result"
    }
   ],
   "source": [
    "%%time\n",
    "\n",
    "image = stage_2(\n",
    "    image=image, prompt_embeds=prompt_embeds, negative_prompt_embeds=negative_embeds, generator=generator, output_type=\"pt\"\n",
    ").images\n",
    "for i, im in enumerate(pt_to_pil(image)):\n",
    "    im.save(f\"./if_stage_II_ov_{i}.png\")\n",
    "pt_to_pil(image)[0]"
   ]
  },
  {
   "cell_type": "code",
   "execution_count": null,
   "id": "f439fba5",
   "metadata": {},
   "outputs": [],
   "source": []
  }
 ],
 "metadata": {
  "kernelspec": {
   "display_name": "Python 3 (ipykernel)",
   "language": "python",
   "name": "python3"
  },
  "language_info": {
   "codemirror_mode": {
    "name": "ipython",
    "version": 3
   },
   "file_extension": ".py",
   "mimetype": "text/x-python",
   "name": "python",
   "nbconvert_exporter": "python",
   "pygments_lexer": "ipython3",
   "version": "3.10.6"
  }
 },
 "nbformat": 4,
 "nbformat_minor": 5
}
