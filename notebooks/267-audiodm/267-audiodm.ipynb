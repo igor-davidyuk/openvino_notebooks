{
 "cells": [
  {
   "cell_type": "markdown",
   "metadata": {},
   "source": [
    "# Sound Generation with AudioLDM2 and OpenVINO™\n",
    "\n",
    "[AudioLDM 2](https://huggingface.co/cvssp/audioldm2) is a latent text-to-audio diffusion model capable of generating realistic audio samples given any text input.\n",
    "\n",
    "AudioLDM 2 was proposed in the paper [AudioLDM 2: Learning Holistic Audio Generation with Self-supervised Pretraining](https://arxiv.org/abs/2308.05734) by Haohe Liu et al.\n",
    "\n",
    "The model takes a text prompt as input and predicts the corresponding audio. It can generate text-conditional sound effects, human speech and music.\n",
    "\n",
    "![](https://github.com/openvinotoolkit/openvino_notebooks/assets/76463150/c93a0f86-d9cf-4bd1-93b9-e27532170d75)\n",
    "\n",
    "In this tutorial we will try out the pipeline, convert the models backing it one by one and will run an interactive app with Gradio!\n",
    "\n",
    "#### Table of contents:\n",
    "- [Prerequisites](#Prerequisites)\n",
    "- [Instantiating Generation Pipeline](#Instantiating-Generation-Pipeline)\n",
    "- [Convert models to OpenVINO Intermediate representation (IR) format](#Convert-models-to-OpenVINO-Intermediate-representation-(IR)-format)\n",
    "    - [Text Encoder](#Text-Encoder)\n",
    "    - [Second text encoder conversion](#Second-text-encoder-conversion)\n",
    "    - [Vocoder conversion](#Vocoder-conversion)\n",
    "    - [GPT-2 conversion](#GPT-2-conversion)\n",
    "    - [Projection model conversion](#Projection-model-conversion)\n",
    "    - [UNet conversion](#UNet-conversion)\n",
    "    - [VAE Decoder conversion](#VAE-Decoder-conversion)\n",
    "- [Select inference device for Stable Diffusion pipeline](#Select-inference-device-for-Stable-Diffusion-pipeline)\n",
    "- [Adapt OpenVINO models to the original pipeline](#Adapt-OpenVINO-models-to-the-original-pipeline)\n",
    "- [Try out the converted pipeline](#Try-out-the-converted-pipeline)\n"
   ]
  },
  {
   "cell_type": "markdown",
   "metadata": {},
   "source": [
    "## Prerequisites\n",
    "[back to top ⬆️](#Table-of-contents:)\n"
   ]
  },
  {
   "cell_type": "code",
   "execution_count": 1,
   "metadata": {
    "scrolled": true
   },
   "outputs": [
    {
     "name": "stdout",
     "output_type": "stream",
     "text": [
      "Note: you may need to restart the kernel to use updated packages.\n",
      "Note: you may need to restart the kernel to use updated packages.\n"
     ]
    }
   ],
   "source": [
    "%pip install -q accelerate diffusers transformers torch gradio --extra-index-url https://download.pytorch.org/whl/cpu\n",
    "%pip install -q \"openvino>=2023.2.0\""
   ]
  },
  {
   "cell_type": "markdown",
   "metadata": {},
   "source": [
    "## Instantiating Generation Pipeline \n",
    "[back to top ⬆️](#Table-of-contents:)\n",
    "\n",
    "\n",
    "To work with [AudioLDM 2](https://huggingface.co/cvssp/audioldm2) by CVSSP, we will use [Hugging Face Diffusers package](https://github.com/huggingface/diffusers). Diffusers package exposes the `AudioLDM2Pipeline` class, simplifying the model instantiation and weights loading. The code below demonstrates how to create a `AudioLDM2Pipeline` and generate a text-conditioned sound sample."
   ]
  },
  {
   "cell_type": "code",
   "execution_count": 1,
   "metadata": {},
   "outputs": [
    {
     "data": {
      "application/vnd.jupyter.widget-view+json": {
       "model_id": "ee8407b8fcab4a0b9df0b601e5061a9c",
       "version_major": 2,
       "version_minor": 0
      },
      "text/plain": [
       "Loading pipeline components...:   0%|          | 0/11 [00:00<?, ?it/s]"
      ]
     },
     "metadata": {},
     "output_type": "display_data"
    },
    {
     "ename": "KeyboardInterrupt",
     "evalue": "",
     "output_type": "error",
     "traceback": [
      "\u001b[0;31m---------------------------------------------------------------------------\u001b[0m",
      "\u001b[0;31mKeyboardInterrupt\u001b[0m                         Traceback (most recent call last)",
      "\u001b[1;32m/home/idavidyu/openvino_notebooks/notebooks/267-audiodm/267-audiodm.ipynb Cell 5\u001b[0m line \u001b[0;36m1\n\u001b[1;32m     <a href='vscode-notebook-cell://ssh-remote%2B7b22686f73744e616d65223a22496c79612d31302e3138352e31362e3336227d/home/idavidyu/openvino_notebooks/notebooks/267-audiodm/267-audiodm.ipynb#W4sdnNjb2RlLXJlbW90ZQ%3D%3D?line=9'>10</a>\u001b[0m \u001b[39mimport\u001b[39;00m \u001b[39mtorch\u001b[39;00m\n\u001b[1;32m     <a href='vscode-notebook-cell://ssh-remote%2B7b22686f73744e616d65223a22496c79612d31302e3138352e31362e3336227d/home/idavidyu/openvino_notebooks/notebooks/267-audiodm/267-audiodm.ipynb#W4sdnNjb2RlLXJlbW90ZQ%3D%3D?line=11'>12</a>\u001b[0m MODEL_ID \u001b[39m=\u001b[39m \u001b[39m\"\u001b[39m\u001b[39mcvssp/audioldm2\u001b[39m\u001b[39m\"\u001b[39m\n\u001b[0;32m---> <a href='vscode-notebook-cell://ssh-remote%2B7b22686f73744e616d65223a22496c79612d31302e3138352e31362e3336227d/home/idavidyu/openvino_notebooks/notebooks/267-audiodm/267-audiodm.ipynb#W4sdnNjb2RlLXJlbW90ZQ%3D%3D?line=12'>13</a>\u001b[0m pipe \u001b[39m=\u001b[39m AudioLDM2Pipeline\u001b[39m.\u001b[39;49mfrom_pretrained(MODEL_ID)\n\u001b[1;32m     <a href='vscode-notebook-cell://ssh-remote%2B7b22686f73744e616d65223a22496c79612d31302e3138352e31362e3336227d/home/idavidyu/openvino_notebooks/notebooks/267-audiodm/267-audiodm.ipynb#W4sdnNjb2RlLXJlbW90ZQ%3D%3D?line=14'>15</a>\u001b[0m prompt \u001b[39m=\u001b[39m \u001b[39m\"\u001b[39m\u001b[39mbirds singing in the forest\u001b[39m\u001b[39m\"\u001b[39m\n\u001b[1;32m     <a href='vscode-notebook-cell://ssh-remote%2B7b22686f73744e616d65223a22496c79612d31302e3138352e31362e3336227d/home/idavidyu/openvino_notebooks/notebooks/267-audiodm/267-audiodm.ipynb#W4sdnNjb2RlLXJlbW90ZQ%3D%3D?line=15'>16</a>\u001b[0m negative_prompt \u001b[39m=\u001b[39m \u001b[39m\"\u001b[39m\u001b[39mLow quality\u001b[39m\u001b[39m\"\u001b[39m\n",
      "File \u001b[0;32m~/.virtualenvs/test/lib/python3.10/site-packages/diffusers/pipelines/pipeline_utils.py:1253\u001b[0m, in \u001b[0;36mDiffusionPipeline.from_pretrained\u001b[0;34m(cls, pretrained_model_name_or_path, **kwargs)\u001b[0m\n\u001b[1;32m   1250\u001b[0m     loaded_sub_model \u001b[39m=\u001b[39m passed_class_obj[name]\n\u001b[1;32m   1251\u001b[0m \u001b[39melse\u001b[39;00m:\n\u001b[1;32m   1252\u001b[0m     \u001b[39m# load sub model\u001b[39;00m\n\u001b[0;32m-> 1253\u001b[0m     loaded_sub_model \u001b[39m=\u001b[39m load_sub_model(\n\u001b[1;32m   1254\u001b[0m         library_name\u001b[39m=\u001b[39;49mlibrary_name,\n\u001b[1;32m   1255\u001b[0m         class_name\u001b[39m=\u001b[39;49mclass_name,\n\u001b[1;32m   1256\u001b[0m         importable_classes\u001b[39m=\u001b[39;49mimportable_classes,\n\u001b[1;32m   1257\u001b[0m         pipelines\u001b[39m=\u001b[39;49mpipelines,\n\u001b[1;32m   1258\u001b[0m         is_pipeline_module\u001b[39m=\u001b[39;49mis_pipeline_module,\n\u001b[1;32m   1259\u001b[0m         pipeline_class\u001b[39m=\u001b[39;49mpipeline_class,\n\u001b[1;32m   1260\u001b[0m         torch_dtype\u001b[39m=\u001b[39;49mtorch_dtype,\n\u001b[1;32m   1261\u001b[0m         provider\u001b[39m=\u001b[39;49mprovider,\n\u001b[1;32m   1262\u001b[0m         sess_options\u001b[39m=\u001b[39;49msess_options,\n\u001b[1;32m   1263\u001b[0m         device_map\u001b[39m=\u001b[39;49mdevice_map,\n\u001b[1;32m   1264\u001b[0m         max_memory\u001b[39m=\u001b[39;49mmax_memory,\n\u001b[1;32m   1265\u001b[0m         offload_folder\u001b[39m=\u001b[39;49moffload_folder,\n\u001b[1;32m   1266\u001b[0m         offload_state_dict\u001b[39m=\u001b[39;49moffload_state_dict,\n\u001b[1;32m   1267\u001b[0m         model_variants\u001b[39m=\u001b[39;49mmodel_variants,\n\u001b[1;32m   1268\u001b[0m         name\u001b[39m=\u001b[39;49mname,\n\u001b[1;32m   1269\u001b[0m         from_flax\u001b[39m=\u001b[39;49mfrom_flax,\n\u001b[1;32m   1270\u001b[0m         variant\u001b[39m=\u001b[39;49mvariant,\n\u001b[1;32m   1271\u001b[0m         low_cpu_mem_usage\u001b[39m=\u001b[39;49mlow_cpu_mem_usage,\n\u001b[1;32m   1272\u001b[0m         cached_folder\u001b[39m=\u001b[39;49mcached_folder,\n\u001b[1;32m   1273\u001b[0m         revision\u001b[39m=\u001b[39;49mrevision,\n\u001b[1;32m   1274\u001b[0m     )\n\u001b[1;32m   1275\u001b[0m     logger\u001b[39m.\u001b[39minfo(\n\u001b[1;32m   1276\u001b[0m         \u001b[39mf\u001b[39m\u001b[39m\"\u001b[39m\u001b[39mLoaded \u001b[39m\u001b[39m{\u001b[39;00mname\u001b[39m}\u001b[39;00m\u001b[39m as \u001b[39m\u001b[39m{\u001b[39;00mclass_name\u001b[39m}\u001b[39;00m\u001b[39m from `\u001b[39m\u001b[39m{\u001b[39;00mname\u001b[39m}\u001b[39;00m\u001b[39m` subfolder of \u001b[39m\u001b[39m{\u001b[39;00mpretrained_model_name_or_path\u001b[39m}\u001b[39;00m\u001b[39m.\u001b[39m\u001b[39m\"\u001b[39m\n\u001b[1;32m   1277\u001b[0m     )\n\u001b[1;32m   1279\u001b[0m init_kwargs[name] \u001b[39m=\u001b[39m loaded_sub_model  \u001b[39m# UNet(...), # DiffusionSchedule(...)\u001b[39;00m\n",
      "File \u001b[0;32m~/.virtualenvs/test/lib/python3.10/site-packages/diffusers/pipelines/pipeline_utils.py:506\u001b[0m, in \u001b[0;36mload_sub_model\u001b[0;34m(library_name, class_name, importable_classes, pipelines, is_pipeline_module, pipeline_class, torch_dtype, provider, sess_options, device_map, max_memory, offload_folder, offload_state_dict, model_variants, name, from_flax, variant, low_cpu_mem_usage, cached_folder, revision)\u001b[0m\n\u001b[1;32m    504\u001b[0m \u001b[39m# check if the module is in a subdirectory\u001b[39;00m\n\u001b[1;32m    505\u001b[0m \u001b[39mif\u001b[39;00m os\u001b[39m.\u001b[39mpath\u001b[39m.\u001b[39misdir(os\u001b[39m.\u001b[39mpath\u001b[39m.\u001b[39mjoin(cached_folder, name)):\n\u001b[0;32m--> 506\u001b[0m     loaded_sub_model \u001b[39m=\u001b[39m load_method(os\u001b[39m.\u001b[39;49mpath\u001b[39m.\u001b[39;49mjoin(cached_folder, name), \u001b[39m*\u001b[39;49m\u001b[39m*\u001b[39;49mloading_kwargs)\n\u001b[1;32m    507\u001b[0m \u001b[39melse\u001b[39;00m:\n\u001b[1;32m    508\u001b[0m     \u001b[39m# else load from the root directory\u001b[39;00m\n\u001b[1;32m    509\u001b[0m     loaded_sub_model \u001b[39m=\u001b[39m load_method(cached_folder, \u001b[39m*\u001b[39m\u001b[39m*\u001b[39mloading_kwargs)\n",
      "File \u001b[0;32m~/.virtualenvs/test/lib/python3.10/site-packages/transformers/modeling_utils.py:3480\u001b[0m, in \u001b[0;36mPreTrainedModel.from_pretrained\u001b[0;34m(cls, pretrained_model_name_or_path, config, cache_dir, ignore_mismatched_sizes, force_download, local_files_only, token, revision, use_safetensors, *model_args, **kwargs)\u001b[0m\n\u001b[1;32m   3471\u001b[0m     \u001b[39mif\u001b[39;00m dtype_orig \u001b[39mis\u001b[39;00m \u001b[39mnot\u001b[39;00m \u001b[39mNone\u001b[39;00m:\n\u001b[1;32m   3472\u001b[0m         torch\u001b[39m.\u001b[39mset_default_dtype(dtype_orig)\n\u001b[1;32m   3473\u001b[0m     (\n\u001b[1;32m   3474\u001b[0m         model,\n\u001b[1;32m   3475\u001b[0m         missing_keys,\n\u001b[1;32m   3476\u001b[0m         unexpected_keys,\n\u001b[1;32m   3477\u001b[0m         mismatched_keys,\n\u001b[1;32m   3478\u001b[0m         offload_index,\n\u001b[1;32m   3479\u001b[0m         error_msgs,\n\u001b[0;32m-> 3480\u001b[0m     ) \u001b[39m=\u001b[39m \u001b[39mcls\u001b[39;49m\u001b[39m.\u001b[39;49m_load_pretrained_model(\n\u001b[1;32m   3481\u001b[0m         model,\n\u001b[1;32m   3482\u001b[0m         state_dict,\n\u001b[1;32m   3483\u001b[0m         loaded_state_dict_keys,  \u001b[39m# XXX: rename?\u001b[39;49;00m\n\u001b[1;32m   3484\u001b[0m         resolved_archive_file,\n\u001b[1;32m   3485\u001b[0m         pretrained_model_name_or_path,\n\u001b[1;32m   3486\u001b[0m         ignore_mismatched_sizes\u001b[39m=\u001b[39;49mignore_mismatched_sizes,\n\u001b[1;32m   3487\u001b[0m         sharded_metadata\u001b[39m=\u001b[39;49msharded_metadata,\n\u001b[1;32m   3488\u001b[0m         _fast_init\u001b[39m=\u001b[39;49m_fast_init,\n\u001b[1;32m   3489\u001b[0m         low_cpu_mem_usage\u001b[39m=\u001b[39;49mlow_cpu_mem_usage,\n\u001b[1;32m   3490\u001b[0m         device_map\u001b[39m=\u001b[39;49mdevice_map,\n\u001b[1;32m   3491\u001b[0m         offload_folder\u001b[39m=\u001b[39;49moffload_folder,\n\u001b[1;32m   3492\u001b[0m         offload_state_dict\u001b[39m=\u001b[39;49moffload_state_dict,\n\u001b[1;32m   3493\u001b[0m         dtype\u001b[39m=\u001b[39;49mtorch_dtype,\n\u001b[1;32m   3494\u001b[0m         is_quantized\u001b[39m=\u001b[39;49m(\u001b[39mgetattr\u001b[39;49m(model, \u001b[39m\"\u001b[39;49m\u001b[39mquantization_method\u001b[39;49m\u001b[39m\"\u001b[39;49m, \u001b[39mNone\u001b[39;49;00m) \u001b[39m==\u001b[39;49m QuantizationMethod\u001b[39m.\u001b[39;49mBITS_AND_BYTES),\n\u001b[1;32m   3495\u001b[0m         keep_in_fp32_modules\u001b[39m=\u001b[39;49mkeep_in_fp32_modules,\n\u001b[1;32m   3496\u001b[0m     )\n\u001b[1;32m   3498\u001b[0m model\u001b[39m.\u001b[39mis_loaded_in_4bit \u001b[39m=\u001b[39m load_in_4bit\n\u001b[1;32m   3499\u001b[0m model\u001b[39m.\u001b[39mis_loaded_in_8bit \u001b[39m=\u001b[39m load_in_8bit\n",
      "File \u001b[0;32m~/.virtualenvs/test/lib/python3.10/site-packages/transformers/modeling_utils.py:3732\u001b[0m, in \u001b[0;36mPreTrainedModel._load_pretrained_model\u001b[0;34m(cls, model, state_dict, loaded_keys, resolved_archive_file, pretrained_model_name_or_path, ignore_mismatched_sizes, sharded_metadata, _fast_init, low_cpu_mem_usage, device_map, offload_folder, offload_state_dict, dtype, is_quantized, keep_in_fp32_modules)\u001b[0m\n\u001b[1;32m   3730\u001b[0m \u001b[39melse\u001b[39;00m:\n\u001b[1;32m   3731\u001b[0m     _loaded_keys \u001b[39m=\u001b[39m loaded_keys\n\u001b[0;32m-> 3732\u001b[0m set_initialized_submodules(model, _loaded_keys)\n\u001b[1;32m   3733\u001b[0m \u001b[39m# This will only initialize submodules that are not marked as initialized by the line above.\u001b[39;00m\n\u001b[1;32m   3734\u001b[0m model\u001b[39m.\u001b[39mapply(model\u001b[39m.\u001b[39m_initialize_weights)\n",
      "File \u001b[0;32m~/.virtualenvs/test/lib/python3.10/site-packages/transformers/modeling_utils.py:513\u001b[0m, in \u001b[0;36mset_initialized_submodules\u001b[0;34m(model, state_dict_keys)\u001b[0m\n\u001b[1;32m    508\u001b[0m \u001b[39m\u001b[39m\u001b[39m\"\"\"\u001b[39;00m\n\u001b[1;32m    509\u001b[0m \u001b[39mSets the `_is_hf_initialized` flag in all submodules of a given model when all its weights are in the loaded state\u001b[39;00m\n\u001b[1;32m    510\u001b[0m \u001b[39mdict.\u001b[39;00m\n\u001b[1;32m    511\u001b[0m \u001b[39m\"\"\"\u001b[39;00m\n\u001b[1;32m    512\u001b[0m \u001b[39mfor\u001b[39;00m module_name, module \u001b[39min\u001b[39;00m model\u001b[39m.\u001b[39mnamed_modules():\n\u001b[0;32m--> 513\u001b[0m     loaded_keys \u001b[39m=\u001b[39m [k\u001b[39m.\u001b[39mreplace(\u001b[39mf\u001b[39m\u001b[39m\"\u001b[39m\u001b[39m{\u001b[39;00mmodule_name\u001b[39m}\u001b[39;00m\u001b[39m.\u001b[39m\u001b[39m\"\u001b[39m, \u001b[39m\"\u001b[39m\u001b[39m\"\u001b[39m) \u001b[39mfor\u001b[39;00m k \u001b[39min\u001b[39;00m state_dict_keys \u001b[39mif\u001b[39;00m k\u001b[39m.\u001b[39mstartswith(\u001b[39mf\u001b[39m\u001b[39m\"\u001b[39m\u001b[39m{\u001b[39;00mmodule_name\u001b[39m}\u001b[39;00m\u001b[39m.\u001b[39m\u001b[39m\"\u001b[39m)]\n\u001b[1;32m    514\u001b[0m     \u001b[39mif\u001b[39;00m \u001b[39mlen\u001b[39m(\u001b[39mset\u001b[39m(module\u001b[39m.\u001b[39mstate_dict()\u001b[39m.\u001b[39mkeys()) \u001b[39m-\u001b[39m \u001b[39mset\u001b[39m(loaded_keys)) \u001b[39m==\u001b[39m \u001b[39m0\u001b[39m:\n\u001b[1;32m    515\u001b[0m         module\u001b[39m.\u001b[39m_is_hf_initialized \u001b[39m=\u001b[39m \u001b[39mTrue\u001b[39;00m\n",
      "File \u001b[0;32m~/.virtualenvs/test/lib/python3.10/site-packages/transformers/modeling_utils.py:513\u001b[0m, in \u001b[0;36m<listcomp>\u001b[0;34m(.0)\u001b[0m\n\u001b[1;32m    508\u001b[0m \u001b[39m\u001b[39m\u001b[39m\"\"\"\u001b[39;00m\n\u001b[1;32m    509\u001b[0m \u001b[39mSets the `_is_hf_initialized` flag in all submodules of a given model when all its weights are in the loaded state\u001b[39;00m\n\u001b[1;32m    510\u001b[0m \u001b[39mdict.\u001b[39;00m\n\u001b[1;32m    511\u001b[0m \u001b[39m\"\"\"\u001b[39;00m\n\u001b[1;32m    512\u001b[0m \u001b[39mfor\u001b[39;00m module_name, module \u001b[39min\u001b[39;00m model\u001b[39m.\u001b[39mnamed_modules():\n\u001b[0;32m--> 513\u001b[0m     loaded_keys \u001b[39m=\u001b[39m [k\u001b[39m.\u001b[39mreplace(\u001b[39mf\u001b[39m\u001b[39m\"\u001b[39m\u001b[39m{\u001b[39;00mmodule_name\u001b[39m}\u001b[39;00m\u001b[39m.\u001b[39m\u001b[39m\"\u001b[39m, \u001b[39m\"\u001b[39m\u001b[39m\"\u001b[39m) \u001b[39mfor\u001b[39;00m k \u001b[39min\u001b[39;00m state_dict_keys \u001b[39mif\u001b[39;00m k\u001b[39m.\u001b[39;49mstartswith(\u001b[39mf\u001b[39;49m\u001b[39m\"\u001b[39;49m\u001b[39m{\u001b[39;49;00mmodule_name\u001b[39m}\u001b[39;49;00m\u001b[39m.\u001b[39;49m\u001b[39m\"\u001b[39;49m)]\n\u001b[1;32m    514\u001b[0m     \u001b[39mif\u001b[39;00m \u001b[39mlen\u001b[39m(\u001b[39mset\u001b[39m(module\u001b[39m.\u001b[39mstate_dict()\u001b[39m.\u001b[39mkeys()) \u001b[39m-\u001b[39m \u001b[39mset\u001b[39m(loaded_keys)) \u001b[39m==\u001b[39m \u001b[39m0\u001b[39m:\n\u001b[1;32m    515\u001b[0m         module\u001b[39m.\u001b[39m_is_hf_initialized \u001b[39m=\u001b[39m \u001b[39mTrue\u001b[39;00m\n",
      "\u001b[0;31mKeyboardInterrupt\u001b[0m: "
     ]
    }
   ],
   "source": [
    "from collections import namedtuple\n",
    "import gc\n",
    "from functools import partial\n",
    "from pathlib import Path\n",
    "\n",
    "from diffusers import AudioLDM2Pipeline\n",
    "from IPython.display import Audio\n",
    "import numpy as np\n",
    "import openvino as ov\n",
    "import torch\n",
    "\n",
    "MODEL_ID = \"cvssp/audioldm2\"\n",
    "pipe = AudioLDM2Pipeline.from_pretrained(MODEL_ID)\n",
    "\n",
    "prompt = \"birds singing in the forest\"\n",
    "negative_prompt = \"Low quality\"\n",
    "audio = pipe(\n",
    "    prompt,\n",
    "    negative_prompt=negative_prompt,\n",
    "    num_inference_steps=100,\n",
    "    audio_length_in_s=5.0\n",
    ").audios[0]\n",
    "\n",
    "sampling_rate = 16000\n",
    "Audio(audio, rate=sampling_rate)"
   ]
  },
  {
   "cell_type": "markdown",
   "metadata": {},
   "source": [
    "## Convert models to OpenVINO Intermediate representation (IR) format \n",
    "[back to top ⬆️](#Table-of-contents:)\n",
    "\n",
    "\n",
    "We need to provide a model object, input data for model tracing to `ov.convert_model` function to obtain OpenVINO `ov.Model` object instance. Model can be saved on disk for next deployment using `ov.save_model` function.\n",
    "\n",
    "The pipeline consists of seven important parts:\n",
    "\n",
    "* T5 and CLAP Text Encoders for creation condition to generate an sound from a text prompt.\n",
    "* Projection model to merge outputs from the two text encoders.\n",
    "* GPT-2 language model to generate a sequence of hidden-states conditioned on the projected outputs from the two text encoders.\n",
    "* Vocoder to convert the mel-spectrogram latents to the final audio waveform.\n",
    "* Unet for step-by-step denoising latent image representation.\n",
    "* Autoencoder (VAE) for decoding latent space to image."
   ]
  },
  {
   "cell_type": "code",
   "execution_count": null,
   "metadata": {},
   "outputs": [],
   "source": [
    "def cleanup_torchscript_cache():\n",
    "    \"\"\"\n",
    "    Helper for removing cached model representation\n",
    "    \"\"\"\n",
    "    torch._C._jit_clear_class_registry()\n",
    "    torch.jit._recursive.concrete_type_store = torch.jit._recursive.ConcreteTypeStore()\n",
    "    torch.jit._state._clear_class_state()"
   ]
  },
  {
   "cell_type": "markdown",
   "metadata": {},
   "source": [
    "### CLAP Text Encoder Converion\n",
    "[back to top ⬆️](#Table-of-contents:)\n",
    "\n",
    "First frozen text-encoder. AudioLDM2 uses the joint audio-text embedding model\n",
    "[CLAP](https://huggingface.co/docs/transformers/model_doc/clap#transformers.CLAPTextModelWithProjection),\n",
    "specifically the [laion/clap-htsat-unfused](https://huggingface.co/laion/clap-htsat-unfused) variant. The\n",
    "text branch is used to encode the text prompt to a prompt embedding. The full audio-text model is used to\n",
    "rank generated waveforms against the text prompt by computing similarity scores."
   ]
  },
  {
   "cell_type": "code",
   "execution_count": null,
   "metadata": {},
   "outputs": [
    {
     "name": "stdout",
     "output_type": "stream",
     "text": [
      "Text Encoder will be loaded from clap_text_encoder.xml\n"
     ]
    }
   ],
   "source": [
    "class ClapEncoderWrapper(torch.nn.Module):\n",
    "    def __init__(self, encoder):\n",
    "        super().__init__()\n",
    "        encoder.eval()\n",
    "        self.encoder = encoder\n",
    "\n",
    "    def forward(self, input_ids, attention_mask):\n",
    "        return self.encoder.get_text_features(input_ids, attention_mask)\n",
    "\n",
    "clap_text_encoder_ir_path = Path('./clap_text_encoder.xml')\n",
    "\n",
    "if not clap_text_encoder_ir_path.exists():\n",
    "    with torch.no_grad():\n",
    "        ov_model = ov.convert_model(\n",
    "            ClapEncoderWrapper(pipe.text_encoder),  # model instance\n",
    "            example_input={\n",
    "                \"input_ids\": torch.ones((1, 512), dtype=torch.long),\n",
    "                \"attention_mask\": torch.ones((1, 512), dtype=torch.long),\n",
    "            },  # inputs for model tracing\n",
    "        )\n",
    "    ov.save_model(ov_model, clap_text_encoder_ir_path)\n",
    "    del ov_model\n",
    "    cleanup_torchscript_cache()\n",
    "    print('Text Encoder successfully converted to IR')\n",
    "else:\n",
    "    print(f\"Text Encoder will be loaded from {clap_text_encoder_ir_path}\")"
   ]
  },
  {
   "cell_type": "markdown",
   "metadata": {},
   "source": [
    "### T5 Text Encoder Conversion\n",
    "[back to top ⬆️](#Table-of-contents:)\n",
    "\n",
    "As second frozen text-encoder, AudioLDM2 uses the [T5](https://huggingface.co/docs/transformers/model_doc/t5#transformers.T5EncoderModel), specifically the\n",
    "            [google/flan-t5-large](https://huggingface.co/google/flan-t5-large) variant.\n",
    "\n",
    "The text-encoder is responsible for transforming the input prompt, for example, \"birds singing in the forest\" into an embedding space that can be understood by the U-Net. It is usually a simple transformer-based encoder that maps a sequence of input tokens to a sequence of latent text embeddings.\n",
    "\n",
    "The input of the text encoder is tensor `input_ids`, which contains indexes of tokens from text processed by the tokenizer and padded to the maximum length accepted by the model. Model outputs are two tensors: `last_hidden_state` - hidden state from the last MultiHeadAttention layer in the model and `pooler_out` - pooled output for whole model hidden states."
   ]
  },
  {
   "cell_type": "code",
   "execution_count": null,
   "metadata": {},
   "outputs": [
    {
     "name": "stdout",
     "output_type": "stream",
     "text": [
      "Text Encoder will be loaded from t5_text_encoder.xml\n"
     ]
    }
   ],
   "source": [
    "t5_text_encoder_ir_path = Path('./t5_text_encoder.xml')\n",
    "\n",
    "if not t5_text_encoder_ir_path.exists():\n",
    "    pipe.text_encoder_2.eval()\n",
    "    with torch.no_grad():\n",
    "        ov_model = ov.convert_model(\n",
    "            pipe.text_encoder_2,  # model instance\n",
    "            example_input=torch.ones((1, 7), dtype=torch.long),  # inputs for model tracing\n",
    "        )\n",
    "    ov.save_model(ov_model, t5_text_encoder_ir_path)\n",
    "    del ov_model\n",
    "    cleanup_torchscript_cache()\n",
    "    print('Text Encoder successfully converted to IR')\n",
    "else:\n",
    "    print(f\"Text Encoder will be loaded from {t5_text_encoder_ir_path}\")"
   ]
  },
  {
   "cell_type": "markdown",
   "metadata": {},
   "source": [
    "### Projection model conversion\n",
    "[back to top ⬆️](#Table-of-contents:)\n",
    "\n",
    "A trained model used to linearly project the hidden-states from the first and second text encoder models and insert learned Start Of Sequence and End Of Sequence token embeddings. The projected hidden-states from the two text encoders are concatenated to give the input to the language model."
   ]
  },
  {
   "cell_type": "code",
   "execution_count": null,
   "metadata": {},
   "outputs": [
    {
     "name": "stdout",
     "output_type": "stream",
     "text": [
      "The Projection Model will be loaded from projection_model.xml\n"
     ]
    }
   ],
   "source": [
    "projection_model_ir_path = Path('./projection_model.xml')\n",
    "\n",
    "projection_model_inputs = {\n",
    "    \"hidden_states\": torch.randn((1, 1, 512), dtype=torch.float32),\n",
    "    \"hidden_states_1\": torch.randn((1, 7, 1024), dtype=torch.float32),\n",
    "    \"attention_mask\": torch.ones((1, 1), dtype=torch.int64),\n",
    "    \"attention_mask_1\": torch.ones((1, 7), dtype=torch.int64),\n",
    "}\n",
    "\n",
    "if not projection_model_ir_path.exists():\n",
    "    pipe.projection_model.eval()\n",
    "    with torch.no_grad():\n",
    "        ov_model = ov.convert_model(\n",
    "            pipe.projection_model,  # model instance\n",
    "            example_input=projection_model_inputs,  # inputs for model tracing\n",
    "        )\n",
    "    ov.save_model(ov_model, projection_model_ir_path)\n",
    "    del ov_model\n",
    "    cleanup_torchscript_cache()\n",
    "    print('The Projection Model successfully converted to IR')\n",
    "else:\n",
    "    print(f\"The Projection Model will be loaded from {projection_model_ir_path}\")"
   ]
  },
  {
   "cell_type": "markdown",
   "metadata": {},
   "source": [
    "### GPT-2 conversion\n",
    "[back to top ⬆️](#Table-of-contents:)\n",
    "\n",
    "[GPT-2](https://huggingface.co/gpt2) is an auto-regressive language model used to generate a sequence of hidden-states conditioned on the projected outputs from the two text encoders."
   ]
  },
  {
   "cell_type": "code",
   "execution_count": null,
   "metadata": {},
   "outputs": [
    {
     "name": "stdout",
     "output_type": "stream",
     "text": [
      "The Projection Model will be loaded from language_model.xml\n"
     ]
    }
   ],
   "source": [
    "from functools import partial\n",
    "\n",
    "\n",
    "language_model_ir_path = Path('./language_model.xml')\n",
    "\n",
    "language_model_inputs = {\n",
    "    \"inputs_embeds\": torch.randn((1, 12, 768), dtype=torch.float32),\n",
    "    \"attention_mask\": torch.ones((1, 12), dtype=torch.int64),\n",
    "}\n",
    "\n",
    "if not language_model_ir_path.exists():\n",
    "    pipe.language_model.config.torchscript = True\n",
    "    pipe.language_model.eval()\n",
    "    pipe.language_model.__call__ = partial(pipe.language_model.__call__, kwargs={\n",
    "                \"past_key_values\": None,\n",
    "                \"use_cache\": False,\n",
    "                \"return_dict\": False})\n",
    "    with torch.no_grad():\n",
    "        ov_model = ov.convert_model(\n",
    "            pipe.language_model,  # model instance\n",
    "            example_input=language_model_inputs,  # inputs for model tracing\n",
    "        )\n",
    "\n",
    "    ov_model.inputs[0].get_node().set_partial_shape(ov.PartialShape([1, -1]))\n",
    "    ov_model.inputs[0].get_node().set_element_type(ov.Type.i64)\n",
    "    ov_model.inputs[1].get_node().set_partial_shape(ov.PartialShape([1, -1, 768]))\n",
    "    ov_model.inputs[1].get_node().set_element_type(ov.Type.f32)\n",
    "    \n",
    "    ov_model.validate_nodes_and_infer_types()\n",
    "\n",
    "    ov.save_model(ov_model, language_model_ir_path)\n",
    "    del ov_model\n",
    "    cleanup_torchscript_cache()\n",
    "    print('The Projection Model successfully converted to IR')\n",
    "else:\n",
    "    print(f\"The Projection Model will be loaded from {language_model_ir_path}\")"
   ]
  },
  {
   "cell_type": "markdown",
   "metadata": {},
   "source": [
    "### Vocoder conversion\n",
    "[back to top ⬆️](#Table-of-contents:)\n",
    "\n",
    "[SpeechT5 HiFi-GAN Vocoder](https://huggingface.co/microsoft/speecht5_hifigan) is used to convert the mel-spectrogram latents to the final audio waveform."
   ]
  },
  {
   "cell_type": "code",
   "execution_count": null,
   "metadata": {},
   "outputs": [
    {
     "name": "stdout",
     "output_type": "stream",
     "text": [
      "The Vocoder will be loaded from vocoder.xml\n"
     ]
    }
   ],
   "source": [
    "vocoder_ir_path = Path('./vocoder.xml')\n",
    "\n",
    "if not vocoder_ir_path.exists():\n",
    "    pipe.vocoder.eval()\n",
    "    with torch.no_grad():\n",
    "        ov_model = ov.convert_model(\n",
    "            pipe.vocoder,  # model instance\n",
    "            example_input=torch.ones((1, 700, 64), dtype=torch.float32),  # inputs for model tracing\n",
    "        )\n",
    "    ov.save_model(ov_model, vocoder_ir_path)\n",
    "    del ov_model\n",
    "    cleanup_torchscript_cache()\n",
    "    print('The Vocoder successfully converted to IR')\n",
    "else:\n",
    "    print(f\"The Vocoder will be loaded from {vocoder_ir_path}\")"
   ]
  },
  {
   "cell_type": "markdown",
   "metadata": {},
   "source": [
    "### UNet conversion \n",
    "[back to top ⬆️](#Table-of-contents:)\n",
    "\n",
    "\n",
    "The UNet model is used to denoise the encoded audio latents. The process of UNet model conversion remains the same, like for original Stable Diffusion model."
   ]
  },
  {
   "cell_type": "code",
   "execution_count": null,
   "metadata": {},
   "outputs": [
    {
     "name": "stdout",
     "output_type": "stream",
     "text": [
      "Unet will be loaded from unet.xml\n"
     ]
    }
   ],
   "source": [
    "unet_ir_path = Path('./unet.xml')\n",
    "\n",
    "pipe.unet.eval()\n",
    "unet_inputs = {\n",
    "    \"sample\": torch.randn((2, 8, 75, 16), dtype=torch.float32),\n",
    "    \"timestep\": torch.tensor(1, dtype=torch.int64),\n",
    "    \"encoder_hidden_states\": torch.randn((2, 8, 768), dtype=torch.float32),\n",
    "    \"encoder_hidden_states_1\": torch.randn((2, 7, 1024), dtype=torch.float32),\n",
    "    \"encoder_attention_mask_1\": torch.ones((2, 7), dtype=torch.int64),\n",
    "}\n",
    "\n",
    "if not unet_ir_path.exists():\n",
    "    with torch.no_grad():\n",
    "        ov_model = ov.convert_model(pipe.unet, example_input=unet_inputs)\n",
    "\n",
    "    ov_model.inputs[0].get_node().set_partial_shape(ov.PartialShape((2, 8, -1, 16)))\n",
    "    ov_model.inputs[2].get_node().set_partial_shape(ov.PartialShape((2, 8, 768)))\n",
    "    ov_model.inputs[3].get_node().set_partial_shape(ov.PartialShape((2, -1, 1024)))\n",
    "    ov_model.inputs[4].get_node().set_partial_shape(ov.PartialShape((2, -1)))\n",
    "    ov_model.validate_nodes_and_infer_types()\n",
    "        \n",
    "    ov.save_model(ov_model, unet_ir_path)\n",
    "    \n",
    "    del ov_model\n",
    "    cleanup_torchscript_cache()\n",
    "    gc.collect()\n",
    "    print('Unet successfully converted to IR')\n",
    "else:\n",
    "    print(f\"Unet will be loaded from {unet_ir_path}\")"
   ]
  },
  {
   "cell_type": "markdown",
   "metadata": {},
   "source": [
    "### VAE Decoder conversion \n",
    "[back to top ⬆️](#Table-of-contents:)\n",
    "\n",
    "\n",
    "The VAE model has two parts, an encoder, and a decoder. The encoder is used to convert the image into a low-dimensional latent representation, which will serve as the input to the U-Net model. The decoder, conversely, transforms the latent representation back into an image.\n",
    "\n",
    "During latent diffusion training, the encoder is used to get the latent representations (latents) of the images for the forward diffusion process, which applies more and more noise at each step. During inference, the denoised latents generated by the reverse diffusion process are converted back into images using the VAE decoder. During inference, we will see that we **only need the VAE decoder**. You can find instructions on how to convert the encoder part in a stable diffusion [notebook](../225-stable-diffusion-text-to-image/225-stable-diffusion-text-to-image.ipynb)."
   ]
  },
  {
   "cell_type": "code",
   "execution_count": null,
   "metadata": {},
   "outputs": [
    {
     "name": "stdout",
     "output_type": "stream",
     "text": [
      "VAE decoder will be loaded from vae.xml\n"
     ]
    }
   ],
   "source": [
    "vae_ir_path = Path('./vae.xml')\n",
    "\n",
    "\n",
    "class VAEDecoderWrapper(torch.nn.Module):\n",
    "    def __init__(self, vae):\n",
    "        super().__init__()\n",
    "        vae.eval()\n",
    "        self.vae = vae\n",
    "\n",
    "    def forward(self, latents):\n",
    "        return self.vae.decode(latents)\n",
    "\n",
    "if not vae_ir_path.exists():\n",
    "    vae_decoder = VAEDecoderWrapper(pipe.vae)\n",
    "    latents = torch.zeros((1, 8, 175, 16))\n",
    "\n",
    "    vae_decoder.eval()\n",
    "    with torch.no_grad():\n",
    "        ov_model = ov.convert_model(vae_decoder, example_input=latents)\n",
    "        ov.save_model(ov_model, vae_ir_path)\n",
    "    del ov_model\n",
    "    cleanup_torchscript_cache()\n",
    "    print('VAE decoder successfully converted to IR')\n",
    "else:\n",
    "    print(f\"VAE decoder will be loaded from {vae_ir_path}\")"
   ]
  },
  {
   "cell_type": "markdown",
   "metadata": {},
   "source": [
    "## Select inference device for Stable Diffusion pipeline \n",
    "[back to top ⬆️](#Table-of-contents:)\n",
    "\n",
    "\n",
    "select device from dropdown list for running inference using OpenVINO"
   ]
  },
  {
   "cell_type": "code",
   "execution_count": null,
   "metadata": {},
   "outputs": [
    {
     "data": {
      "application/vnd.jupyter.widget-view+json": {
       "model_id": "735c89a483f94fcb8a1e5181fa6c9141",
       "version_major": 2,
       "version_minor": 0
      },
      "text/plain": [
       "Dropdown(description='Device:', options=('CPU', 'AUTO'), value='CPU')"
      ]
     },
     "execution_count": 2,
     "metadata": {},
     "output_type": "execute_result"
    }
   ],
   "source": [
    "import ipywidgets as widgets\n",
    "\n",
    "core = ov.Core()\n",
    "\n",
    "DEVICE = widgets.Dropdown(\n",
    "    options=core.available_devices + [\"AUTO\"],\n",
    "    value=\"CPU\",\n",
    "    description=\"Device:\",\n",
    "    disabled=False,\n",
    ")\n",
    "\n",
    "DEVICE"
   ]
  },
  {
   "cell_type": "markdown",
   "metadata": {},
   "source": [
    "## Adapt OpenVINO models to the original pipeline\n",
    "[back to top ⬆️](#Table-of-contents:)\n",
    "\n",
    "Here we create wrapper classes for all three OpenVINO models that we want to embed in the original inference pipeline.\n",
    "Here are some of the things to consider when adapting an OV model:\n",
    " - Make sure that parameters passed by the original pipeline are forwarded to the compiled OV model properly; sometimes the OV model uses only a portion of the input arguments and some are ignored, sometimes you need to convert the argument to another data type or unwrap some data structures such as tuples or dictionaries.\n",
    " - Do guarantee that the wrapper class returns results to the pipeline in an expected format. In the example below you can see how we pack OV model outputs into special named tuples to adapt them for the pipeline.\n",
    " - Pay attention to the model method used in the original pipeline for calling the model - it may be not the `forward` method! Refer to the `OVClapEncoderWrapper` to see how we wrap OV model inference into the `get_text_features` method."
   ]
  },
  {
   "cell_type": "code",
   "execution_count": null,
   "metadata": {},
   "outputs": [],
   "source": [
    "class OVClapEncoderWrapper:\n",
    "    def __init__(self, encoder_ir, config):\n",
    "        self.encoder = core.compile_model(encoder_ir, DEVICE.value)\n",
    "        self.config = config\n",
    "\n",
    "    def get_text_features(self, input_ids, attention_mask, **_):\n",
    "        last_hidden_state = self.encoder([input_ids, attention_mask])[0]\n",
    "        return torch.from_numpy(last_hidden_state)\n",
    "\n",
    "class OVT5EncoderWrapper:\n",
    "    def __init__(self, encoder_ir, config):\n",
    "        self.encoder = core.compile_model(encoder_ir, DEVICE.value)\n",
    "        self.config = config\n",
    "        self.dtype = self.config.torch_dtype\n",
    "\n",
    "    def __call__(self, input_ids, **_):\n",
    "        last_hidden_state = self.encoder(input_ids)[0]\n",
    "        return torch.from_numpy(last_hidden_state)[None, ...]\n",
    "    \n",
    "class OVVocoderWrapper:\n",
    "    def __init__(self, vocoder_ir, config):\n",
    "        self.vocoder = core.compile_model(vocoder_ir, DEVICE.value)\n",
    "        self.config = config\n",
    "\n",
    "    def __call__(self, mel_spectrogram, **_):\n",
    "        waveform = self.vocoder(mel_spectrogram)[0]\n",
    "        return torch.from_numpy(waveform)\n",
    "    \n",
    "class OVProjectionModelWrapper:\n",
    "    def __init__(self, proj_model_ir, config):\n",
    "        self.proj_model = core.compile_model(proj_model_ir, DEVICE.value)\n",
    "        self.config = config\n",
    "        self.output_type = namedtuple(\"ProjectionOutput\", [\"hidden_states\", \"attention_mask\"])\n",
    "\n",
    "    def __call__(\n",
    "        self, hidden_states,\n",
    "        hidden_states_1,\n",
    "        attention_mask,\n",
    "        attention_mask_1, **_\n",
    "    ):\n",
    "        output = self.proj_model({\n",
    "            \"hidden_states\": hidden_states,\n",
    "            \"hidden_states_1\": hidden_states_1,\n",
    "            \"attention_mask\": attention_mask,\n",
    "            \"attention_mask_1\": attention_mask_1,\n",
    "        })\n",
    "        return self.output_type(torch.from_numpy(output[0]), torch.from_numpy(output[1]))\n",
    "    \n",
    "class OVUnetWrapper:\n",
    "    def __init__(self, unet_ir, config):\n",
    "        self.unet = core.compile_model(unet_ir, DEVICE.value)\n",
    "        self.config = config\n",
    "\n",
    "    def __call__(\n",
    "        self, sample,\n",
    "        timestep,\n",
    "        encoder_hidden_states,\n",
    "        encoder_hidden_states_1,\n",
    "        encoder_attention_mask_1, **_\n",
    "    ):\n",
    "        output = self.unet({\n",
    "            \"sample\": sample,\n",
    "            \"timestep\": timestep,\n",
    "            \"encoder_hidden_states\": encoder_hidden_states,\n",
    "            \"encoder_hidden_states_1\": encoder_hidden_states_1,\n",
    "            \"encoder_attention_mask_1\": encoder_attention_mask_1,\n",
    "        })\n",
    "        return (torch.from_numpy(output[0]), )\n",
    "\n",
    "class OVVaeDecoderWrapper:\n",
    "    def __init__(self, vae_ir, config):\n",
    "        self.vae = core.compile_model(vae_ir, DEVICE.value)\n",
    "        self.config = config\n",
    "        self.output_type = namedtuple(\"VaeOutput\", [\"sample\"])\n",
    "\n",
    "    def decode(self, latents, **_):\n",
    "        last_hidden_state = self.vae(latents)[0]\n",
    "        return self.output_type(torch.from_numpy(last_hidden_state))\n",
    "    \n",
    "def generate_language_model(\n",
    "    gpt_2: ov.CompiledModel,\n",
    "    inputs_embeds: torch.Tensor,\n",
    "    attention_mask: torch.Tensor,\n",
    "    max_new_tokens: int = 8,\n",
    "    **_\n",
    ") -> torch.Tensor:\n",
    "    \"\"\"\n",
    "    Generates a sequence of hidden-states from the language model, conditioned on the embedding inputs.\n",
    "    \"\"\"\n",
    "    if not max_new_tokens:\n",
    "        max_new_tokens = 8\n",
    "    inputs_embeds = inputs_embeds.cpu().numpy()\n",
    "    attention_mask = attention_mask.cpu().numpy()\n",
    "    for _ in range(max_new_tokens):\n",
    "        # forward pass to get next hidden states\n",
    "        output = gpt_2({'inputs_embeds':inputs_embeds, 'attention_mask':attention_mask})\n",
    "\n",
    "        next_hidden_states = output[0]\n",
    "\n",
    "        # Update the model input\n",
    "        inputs_embeds = np.concatenate([inputs_embeds, next_hidden_states[:, -1:, :]], axis=1)\n",
    "        attention_mask = np.concatenate([attention_mask, np.ones((attention_mask.shape[0], 1))], axis=1)\n",
    "    return torch.from_numpy(inputs_embeds[:, -max_new_tokens:, :])\n"
   ]
  },
  {
   "cell_type": "markdown",
   "metadata": {},
   "source": [
    "Now we initialize the wrapper objects and load them to the HF pipeline"
   ]
  },
  {
   "cell_type": "code",
   "execution_count": null,
   "metadata": {},
   "outputs": [
    {
     "data": {
      "application/vnd.jupyter.widget-view+json": {
       "model_id": "0e6e77e54540409486a544e13e12f3e6",
       "version_major": 2,
       "version_minor": 0
      },
      "text/plain": [
       "Loading pipeline components...:   0%|          | 0/11 [00:00<?, ?it/s]"
      ]
     },
     "metadata": {},
     "output_type": "display_data"
    },
    {
     "data": {
      "application/vnd.jupyter.widget-view+json": {
       "model_id": "5d62e3f3837840b6b1bb3e2d622ac49d",
       "version_major": 2,
       "version_minor": 0
      },
      "text/plain": [
       "  0%|          | 0/200 [00:00<?, ?it/s]"
      ]
     },
     "metadata": {},
     "output_type": "display_data"
    },
    {
     "data": {
      "text/html": [
       "\n",
       "                <audio  controls=\"controls\" >\n",
       "                    <source src=\"data:audio/wav;base64,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\" type=\"audio/wav\" />\n",
       "                    Your browser does not support the audio element.\n",
       "                </audio>\n",
       "              "
      ],
      "text/plain": [
       "<IPython.lib.display.Audio object>"
      ]
     },
     "execution_count": 16,
     "metadata": {},
     "output_type": "execute_result"
    }
   ],
   "source": [
    "pipe = AudioLDM2Pipeline.from_pretrained(MODEL_ID)\n",
    "pipe.config.torchscript = True\n",
    "pipe.config.return_dict = False\n",
    "\n",
    "np.random.seed(0)\n",
    "torch.manual_seed(0) \n",
    "\n",
    "pipe.text_encoder = OVClapEncoderWrapper(clap_text_encoder_ir_path, pipe.text_encoder.config)\n",
    "pipe.text_encoder_2 = OVT5EncoderWrapper(t5_text_encoder_ir_path, pipe.text_encoder_2.config)\n",
    "pipe.projection_model = OVProjectionModelWrapper(projection_model_ir_path, pipe.projection_model.config)\n",
    "pipe.vocoder = OVVocoderWrapper(vocoder_ir_path, pipe.vocoder.config)\n",
    "pipe.unet = OVUnetWrapper(unet_ir_path, pipe.unet.config)\n",
    "pipe.vae = OVVaeDecoderWrapper(vae_ir_path, pipe.vae.config)\n",
    "\n",
    "pipe.generate_language_model = partial(generate_language_model, core.compile_model(language_model_ir_path, DEVICE.value))\n",
    "\n",
    "del pipe.text_encoder, pipe.text_encoder_2, pipe.projection_model, pipe.language_model, pipe.vocoder, pipe.unet, pipe.vae\n",
    "gc.collect()\n",
    "\n",
    "prompt = \"birds singing in the forest\"\n",
    "negative_prompt = \"Low quality\"\n",
    "audio = pipe(\n",
    "    prompt,\n",
    "    negative_prompt=negative_prompt,\n",
    "    num_inference_steps=200,\n",
    "    audio_length_in_s=3.0\n",
    ").audios[0]\n",
    "\n",
    "sampling_rate = 16000\n",
    "Audio(audio, rate=sampling_rate)"
   ]
  },
  {
   "cell_type": "markdown",
   "metadata": {},
   "source": [
    "## Try out the converted pipeline\n",
    "[back to top ⬆️](#Table-of-contents:)\n",
    "\n",
    "Now, we are ready to start generation. For improving the generation process, we also introduce an opportunity to provide a `negative prompt`. Technically, positive prompt steers the diffusion toward the output associated with it, while negative prompt steers the diffusion away from it.\n",
    "The demo app below is created using [Gradio package](https://www.gradio.app/docs/interface)"
   ]
  },
  {
   "cell_type": "code",
   "execution_count": null,
   "metadata": {},
   "outputs": [
    {
     "name": "stdout",
     "output_type": "stream",
     "text": [
      "Running on local URL:  http://127.0.0.1:7860\n",
      "\n",
      "To create a public link, set `share=True` in `launch()`.\n"
     ]
    },
    {
     "data": {
      "text/html": [
       "<div><iframe src=\"http://127.0.0.1:7860/\" width=\"100%\" height=\"500\" allow=\"autoplay; camera; microphone; clipboard-read; clipboard-write;\" frameborder=\"0\" allowfullscreen></iframe></div>"
      ],
      "text/plain": [
       "<IPython.core.display.HTML object>"
      ]
     },
     "metadata": {},
     "output_type": "display_data"
    },
    {
     "data": {
      "application/vnd.jupyter.widget-view+json": {
       "model_id": "8ca0b6430d044385a9f6e23d737697a8",
       "version_major": 2,
       "version_minor": 0
      },
      "text/plain": [
       "  0%|          | 0/150 [00:00<?, ?it/s]"
      ]
     },
     "metadata": {},
     "output_type": "display_data"
    },
    {
     "name": "stdout",
     "output_type": "stream",
     "text": [
      "Keyboard interruption in main thread... closing server.\n"
     ]
    }
   ],
   "source": [
    "import gradio as gr\n",
    "\n",
    "def _generate(prompt, negative_prompt, audio_length_in_s, num_inference_steps):\n",
    "    \"\"\"Gradio backing function.\"\"\"\n",
    "    audio_values = pipe(\n",
    "        prompt,\n",
    "        negative_prompt=negative_prompt,\n",
    "        num_inference_steps=num_inference_steps,\n",
    "        audio_length_in_s=audio_length_in_s\n",
    "    )\n",
    "    waveform = audio_values[0].squeeze() * 2**15\n",
    "    return (sampling_rate, waveform.astype(np.int16))\n",
    "\n",
    "demo = gr.Interface(\n",
    "    _generate,\n",
    "    inputs=[\n",
    "        gr.Textbox(label=\"Text Prompt\"),\n",
    "        gr.Textbox(label=\"Negative Prompt\", placeholder=\"Example: Low quality\"),\n",
    "        gr.Slider(\n",
    "            minimum=1.0,\n",
    "            maximum=15.0,\n",
    "            step=0.25,\n",
    "            value=7,\n",
    "            label=\"Audio Length (s)\",\n",
    "        ),\n",
    "        gr.Slider(label=\"Inference Steps\", step=5, value=150, minimum=50, maximum=250)\n",
    "    ],\n",
    "    outputs=[\n",
    "        \"audio\"\n",
    "    ],\n",
    "    examples=[\n",
    "        [\"birds singing in the forest\", \"Low quality\", 7, 150],\n",
    "        [\"The sound of a hammer hitting a wooden surface\", \"\", 4, 200],\n",
    "    ],\n",
    ")\n",
    "try:\n",
    "    demo.launch(debug=True)\n",
    "except Exception:\n",
    "    demo.launch(share=True, debug=True)\n",
    "\n",
    "# If you are launching remotely, specify server_name and server_port\n",
    "# EXAMPLE: `demo.launch(server_name='your server name', server_port='server port in int')`\n",
    "# To learn more please refer to the Gradio docs: https://gradio.app/docs/"
   ]
  }
 ],
 "metadata": {
  "kernelspec": {
   "display_name": "Python 3 (ipykernel)",
   "language": "python",
   "name": "python3"
  },
  "language_info": {
   "codemirror_mode": {
    "name": "ipython",
    "version": 3
   },
   "file_extension": ".py",
   "mimetype": "text/x-python",
   "name": "python",
   "nbconvert_exporter": "python",
   "pygments_lexer": "ipython3",
   "version": "3.10.12"
  }
 },
 "nbformat": 4,
 "nbformat_minor": 4
}
